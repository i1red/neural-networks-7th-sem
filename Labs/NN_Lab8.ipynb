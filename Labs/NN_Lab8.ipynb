{
  "nbformat": 4,
  "nbformat_minor": 0,
  "metadata": {
    "colab": {
      "name": "NN_Lab8.ipynb",
      "provenance": [],
      "collapsed_sections": []
    },
    "kernelspec": {
      "name": "python3",
      "display_name": "Python 3"
    },
    "language_info": {
      "name": "python"
    }
  },
  "cells": [
    {
      "cell_type": "code",
      "metadata": {
        "id": "a4oCDdEG1izh"
      },
      "source": [
        "import pandas as pd\n",
        "import numpy as np\n",
        "\n",
        "from keras.layers import Dense, PReLU\n",
        "from keras.models import Sequential\n",
        "from tensorflow.keras.optimizers import Adam, SGD\n",
        "\n",
        "from sklearn.model_selection import train_test_split"
      ],
      "execution_count": null,
      "outputs": []
    },
    {
      "cell_type": "markdown",
      "metadata": {
        "id": "W0B6eaq_OTEF"
      },
      "source": [
        "Генерація даних"
      ]
    },
    {
      "cell_type": "code",
      "metadata": {
        "id": "cr_Rvwr74DfF"
      },
      "source": [
        "N_ENROLLEES = 3000\n",
        "\n",
        "np.random.seed(0)\n",
        "math, physics, ukrainian = np.random.randint(2, 6, N_ENROLLEES), np.random.randint(2, 6, N_ENROLLEES), np.random.randint(2, 6, N_ENROLLEES)\n",
        "privilege = np.random.randint(0, 2, N_ENROLLEES)\n",
        "\n",
        "\n",
        "data = pd.DataFrame({'math': math, 'physics': physics, 'ukrainian': ukrainian, 'privilege': privilege})\n",
        "\n",
        "\n",
        "def create_labels(enrolle):\n",
        "    math, phy, ukr, privilege = enrolle\n",
        "    ovr = math + phy + ukr\n",
        "\n",
        "    if math < 3 or phy < 3 or ukr < 3:\n",
        "        return 0\n",
        "\n",
        "    if not privilege and (math == 3 or phy == 3 or ovr < 11):\n",
        "        return 0\n",
        "    \n",
        "    return 1\n",
        "\n",
        "\n",
        "def scale_mark(mark): return (mark - 2) / 3\n",
        "\n",
        "\n",
        "data['enrolled'] = data.apply(create_labels, axis=1)\n",
        "\n",
        "for mark_column in ('math', 'physics', 'ukrainian'): \n",
        "    data[mark_column] = data[mark_column].apply(scale_mark)"
      ],
      "execution_count": null,
      "outputs": []
    },
    {
      "cell_type": "code",
      "metadata": {
        "id": "bV7zY2uAJyrw"
      },
      "source": [
        "train_data, test_data = train_test_split(data, test_size=0.3, random_state=0)"
      ],
      "execution_count": null,
      "outputs": []
    },
    {
      "cell_type": "markdown",
      "metadata": {
        "id": "cwwLZtHwOcSa"
      },
      "source": [
        "Тренувальна вибірка"
      ]
    },
    {
      "cell_type": "code",
      "metadata": {
        "colab": {
          "base_uri": "https://localhost:8080/",
          "height": 206
        },
        "id": "pbheZ3nfNFL2",
        "outputId": "a3ea5bea-6f99-4bbc-cb70-0885b6b812bd"
      },
      "source": [
        "train_data.head()"
      ],
      "execution_count": null,
      "outputs": [
        {
          "output_type": "execute_result",
          "data": {
            "text/html": [
              "<div>\n",
              "<style scoped>\n",
              "    .dataframe tbody tr th:only-of-type {\n",
              "        vertical-align: middle;\n",
              "    }\n",
              "\n",
              "    .dataframe tbody tr th {\n",
              "        vertical-align: top;\n",
              "    }\n",
              "\n",
              "    .dataframe thead th {\n",
              "        text-align: right;\n",
              "    }\n",
              "</style>\n",
              "<table border=\"1\" class=\"dataframe\">\n",
              "  <thead>\n",
              "    <tr style=\"text-align: right;\">\n",
              "      <th></th>\n",
              "      <th>math</th>\n",
              "      <th>physics</th>\n",
              "      <th>ukrainian</th>\n",
              "      <th>privilege</th>\n",
              "      <th>enrolled</th>\n",
              "    </tr>\n",
              "  </thead>\n",
              "  <tbody>\n",
              "    <tr>\n",
              "      <th>1732</th>\n",
              "      <td>0.666667</td>\n",
              "      <td>1.0</td>\n",
              "      <td>0.333333</td>\n",
              "      <td>1</td>\n",
              "      <td>1</td>\n",
              "    </tr>\n",
              "    <tr>\n",
              "      <th>2440</th>\n",
              "      <td>1.000000</td>\n",
              "      <td>1.0</td>\n",
              "      <td>0.000000</td>\n",
              "      <td>1</td>\n",
              "      <td>0</td>\n",
              "    </tr>\n",
              "    <tr>\n",
              "      <th>1232</th>\n",
              "      <td>0.666667</td>\n",
              "      <td>1.0</td>\n",
              "      <td>0.000000</td>\n",
              "      <td>1</td>\n",
              "      <td>0</td>\n",
              "    </tr>\n",
              "    <tr>\n",
              "      <th>1081</th>\n",
              "      <td>0.333333</td>\n",
              "      <td>0.0</td>\n",
              "      <td>0.333333</td>\n",
              "      <td>0</td>\n",
              "      <td>0</td>\n",
              "    </tr>\n",
              "    <tr>\n",
              "      <th>2920</th>\n",
              "      <td>1.000000</td>\n",
              "      <td>0.0</td>\n",
              "      <td>1.000000</td>\n",
              "      <td>0</td>\n",
              "      <td>0</td>\n",
              "    </tr>\n",
              "  </tbody>\n",
              "</table>\n",
              "</div>"
            ],
            "text/plain": [
              "          math  physics  ukrainian  privilege  enrolled\n",
              "1732  0.666667      1.0   0.333333          1         1\n",
              "2440  1.000000      1.0   0.000000          1         0\n",
              "1232  0.666667      1.0   0.000000          1         0\n",
              "1081  0.333333      0.0   0.333333          0         0\n",
              "2920  1.000000      0.0   1.000000          0         0"
            ]
          },
          "metadata": {},
          "execution_count": 36
        }
      ]
    },
    {
      "cell_type": "code",
      "metadata": {
        "colab": {
          "base_uri": "https://localhost:8080/",
          "height": 300
        },
        "id": "5LVLkp6DNHD3",
        "outputId": "e14c2239-2bc0-4beb-c89b-be4786d0cff8"
      },
      "source": [
        "train_data.describe()"
      ],
      "execution_count": null,
      "outputs": [
        {
          "output_type": "execute_result",
          "data": {
            "text/html": [
              "<div>\n",
              "<style scoped>\n",
              "    .dataframe tbody tr th:only-of-type {\n",
              "        vertical-align: middle;\n",
              "    }\n",
              "\n",
              "    .dataframe tbody tr th {\n",
              "        vertical-align: top;\n",
              "    }\n",
              "\n",
              "    .dataframe thead th {\n",
              "        text-align: right;\n",
              "    }\n",
              "</style>\n",
              "<table border=\"1\" class=\"dataframe\">\n",
              "  <thead>\n",
              "    <tr style=\"text-align: right;\">\n",
              "      <th></th>\n",
              "      <th>math</th>\n",
              "      <th>physics</th>\n",
              "      <th>ukrainian</th>\n",
              "      <th>privilege</th>\n",
              "      <th>enrolled</th>\n",
              "    </tr>\n",
              "  </thead>\n",
              "  <tbody>\n",
              "    <tr>\n",
              "      <th>count</th>\n",
              "      <td>2100.000000</td>\n",
              "      <td>2100.000000</td>\n",
              "      <td>2100.000000</td>\n",
              "      <td>2100.000000</td>\n",
              "      <td>2100.000000</td>\n",
              "    </tr>\n",
              "    <tr>\n",
              "      <th>mean</th>\n",
              "      <td>0.505238</td>\n",
              "      <td>0.496190</td>\n",
              "      <td>0.490952</td>\n",
              "      <td>0.517143</td>\n",
              "      <td>0.302857</td>\n",
              "    </tr>\n",
              "    <tr>\n",
              "      <th>std</th>\n",
              "      <td>0.378648</td>\n",
              "      <td>0.374023</td>\n",
              "      <td>0.371804</td>\n",
              "      <td>0.499825</td>\n",
              "      <td>0.459603</td>\n",
              "    </tr>\n",
              "    <tr>\n",
              "      <th>min</th>\n",
              "      <td>0.000000</td>\n",
              "      <td>0.000000</td>\n",
              "      <td>0.000000</td>\n",
              "      <td>0.000000</td>\n",
              "      <td>0.000000</td>\n",
              "    </tr>\n",
              "    <tr>\n",
              "      <th>25%</th>\n",
              "      <td>0.000000</td>\n",
              "      <td>0.000000</td>\n",
              "      <td>0.000000</td>\n",
              "      <td>0.000000</td>\n",
              "      <td>0.000000</td>\n",
              "    </tr>\n",
              "    <tr>\n",
              "      <th>50%</th>\n",
              "      <td>0.666667</td>\n",
              "      <td>0.333333</td>\n",
              "      <td>0.333333</td>\n",
              "      <td>1.000000</td>\n",
              "      <td>0.000000</td>\n",
              "    </tr>\n",
              "    <tr>\n",
              "      <th>75%</th>\n",
              "      <td>1.000000</td>\n",
              "      <td>0.666667</td>\n",
              "      <td>0.666667</td>\n",
              "      <td>1.000000</td>\n",
              "      <td>1.000000</td>\n",
              "    </tr>\n",
              "    <tr>\n",
              "      <th>max</th>\n",
              "      <td>1.000000</td>\n",
              "      <td>1.000000</td>\n",
              "      <td>1.000000</td>\n",
              "      <td>1.000000</td>\n",
              "      <td>1.000000</td>\n",
              "    </tr>\n",
              "  </tbody>\n",
              "</table>\n",
              "</div>"
            ],
            "text/plain": [
              "              math      physics    ukrainian    privilege     enrolled\n",
              "count  2100.000000  2100.000000  2100.000000  2100.000000  2100.000000\n",
              "mean      0.505238     0.496190     0.490952     0.517143     0.302857\n",
              "std       0.378648     0.374023     0.371804     0.499825     0.459603\n",
              "min       0.000000     0.000000     0.000000     0.000000     0.000000\n",
              "25%       0.000000     0.000000     0.000000     0.000000     0.000000\n",
              "50%       0.666667     0.333333     0.333333     1.000000     0.000000\n",
              "75%       1.000000     0.666667     0.666667     1.000000     1.000000\n",
              "max       1.000000     1.000000     1.000000     1.000000     1.000000"
            ]
          },
          "metadata": {},
          "execution_count": 37
        }
      ]
    },
    {
      "cell_type": "markdown",
      "metadata": {
        "id": "GxnW2AhpOi93"
      },
      "source": [
        "Тестова вибірка"
      ]
    },
    {
      "cell_type": "code",
      "metadata": {
        "colab": {
          "base_uri": "https://localhost:8080/",
          "height": 206
        },
        "id": "rWcBOlWXOQw8",
        "outputId": "86ab4569-0b12-4042-9abd-5743da6798be"
      },
      "source": [
        "test_data.head()"
      ],
      "execution_count": null,
      "outputs": [
        {
          "output_type": "execute_result",
          "data": {
            "text/html": [
              "<div>\n",
              "<style scoped>\n",
              "    .dataframe tbody tr th:only-of-type {\n",
              "        vertical-align: middle;\n",
              "    }\n",
              "\n",
              "    .dataframe tbody tr th {\n",
              "        vertical-align: top;\n",
              "    }\n",
              "\n",
              "    .dataframe thead th {\n",
              "        text-align: right;\n",
              "    }\n",
              "</style>\n",
              "<table border=\"1\" class=\"dataframe\">\n",
              "  <thead>\n",
              "    <tr style=\"text-align: right;\">\n",
              "      <th></th>\n",
              "      <th>math</th>\n",
              "      <th>physics</th>\n",
              "      <th>ukrainian</th>\n",
              "      <th>privilege</th>\n",
              "      <th>enrolled</th>\n",
              "    </tr>\n",
              "  </thead>\n",
              "  <tbody>\n",
              "    <tr>\n",
              "      <th>311</th>\n",
              "      <td>0.666667</td>\n",
              "      <td>1.0</td>\n",
              "      <td>1.000000</td>\n",
              "      <td>1</td>\n",
              "      <td>1</td>\n",
              "    </tr>\n",
              "    <tr>\n",
              "      <th>1025</th>\n",
              "      <td>1.000000</td>\n",
              "      <td>0.0</td>\n",
              "      <td>0.000000</td>\n",
              "      <td>1</td>\n",
              "      <td>0</td>\n",
              "    </tr>\n",
              "    <tr>\n",
              "      <th>1587</th>\n",
              "      <td>0.666667</td>\n",
              "      <td>1.0</td>\n",
              "      <td>0.333333</td>\n",
              "      <td>1</td>\n",
              "      <td>1</td>\n",
              "    </tr>\n",
              "    <tr>\n",
              "      <th>2941</th>\n",
              "      <td>1.000000</td>\n",
              "      <td>1.0</td>\n",
              "      <td>0.000000</td>\n",
              "      <td>0</td>\n",
              "      <td>0</td>\n",
              "    </tr>\n",
              "    <tr>\n",
              "      <th>2980</th>\n",
              "      <td>1.000000</td>\n",
              "      <td>1.0</td>\n",
              "      <td>0.666667</td>\n",
              "      <td>1</td>\n",
              "      <td>1</td>\n",
              "    </tr>\n",
              "  </tbody>\n",
              "</table>\n",
              "</div>"
            ],
            "text/plain": [
              "          math  physics  ukrainian  privilege  enrolled\n",
              "311   0.666667      1.0   1.000000          1         1\n",
              "1025  1.000000      0.0   0.000000          1         0\n",
              "1587  0.666667      1.0   0.333333          1         1\n",
              "2941  1.000000      1.0   0.000000          0         0\n",
              "2980  1.000000      1.0   0.666667          1         1"
            ]
          },
          "metadata": {},
          "execution_count": 38
        }
      ]
    },
    {
      "cell_type": "code",
      "metadata": {
        "colab": {
          "base_uri": "https://localhost:8080/",
          "height": 300
        },
        "id": "zQpwx-EDO_ce",
        "outputId": "8d91aa12-279b-4b76-e379-799cf5a143c6"
      },
      "source": [
        "test_data.describe()"
      ],
      "execution_count": null,
      "outputs": [
        {
          "output_type": "execute_result",
          "data": {
            "text/html": [
              "<div>\n",
              "<style scoped>\n",
              "    .dataframe tbody tr th:only-of-type {\n",
              "        vertical-align: middle;\n",
              "    }\n",
              "\n",
              "    .dataframe tbody tr th {\n",
              "        vertical-align: top;\n",
              "    }\n",
              "\n",
              "    .dataframe thead th {\n",
              "        text-align: right;\n",
              "    }\n",
              "</style>\n",
              "<table border=\"1\" class=\"dataframe\">\n",
              "  <thead>\n",
              "    <tr style=\"text-align: right;\">\n",
              "      <th></th>\n",
              "      <th>math</th>\n",
              "      <th>physics</th>\n",
              "      <th>ukrainian</th>\n",
              "      <th>privilege</th>\n",
              "      <th>enrolled</th>\n",
              "    </tr>\n",
              "  </thead>\n",
              "  <tbody>\n",
              "    <tr>\n",
              "      <th>count</th>\n",
              "      <td>900.000000</td>\n",
              "      <td>900.000000</td>\n",
              "      <td>900.000000</td>\n",
              "      <td>900.000000</td>\n",
              "      <td>900.000000</td>\n",
              "    </tr>\n",
              "    <tr>\n",
              "      <th>mean</th>\n",
              "      <td>0.505926</td>\n",
              "      <td>0.513704</td>\n",
              "      <td>0.483704</td>\n",
              "      <td>0.500000</td>\n",
              "      <td>0.320000</td>\n",
              "    </tr>\n",
              "    <tr>\n",
              "      <th>std</th>\n",
              "      <td>0.363438</td>\n",
              "      <td>0.371969</td>\n",
              "      <td>0.369531</td>\n",
              "      <td>0.500278</td>\n",
              "      <td>0.466736</td>\n",
              "    </tr>\n",
              "    <tr>\n",
              "      <th>min</th>\n",
              "      <td>0.000000</td>\n",
              "      <td>0.000000</td>\n",
              "      <td>0.000000</td>\n",
              "      <td>0.000000</td>\n",
              "      <td>0.000000</td>\n",
              "    </tr>\n",
              "    <tr>\n",
              "      <th>25%</th>\n",
              "      <td>0.333333</td>\n",
              "      <td>0.333333</td>\n",
              "      <td>0.000000</td>\n",
              "      <td>0.000000</td>\n",
              "      <td>0.000000</td>\n",
              "    </tr>\n",
              "    <tr>\n",
              "      <th>50%</th>\n",
              "      <td>0.333333</td>\n",
              "      <td>0.666667</td>\n",
              "      <td>0.333333</td>\n",
              "      <td>0.500000</td>\n",
              "      <td>0.000000</td>\n",
              "    </tr>\n",
              "    <tr>\n",
              "      <th>75%</th>\n",
              "      <td>0.666667</td>\n",
              "      <td>1.000000</td>\n",
              "      <td>0.666667</td>\n",
              "      <td>1.000000</td>\n",
              "      <td>1.000000</td>\n",
              "    </tr>\n",
              "    <tr>\n",
              "      <th>max</th>\n",
              "      <td>1.000000</td>\n",
              "      <td>1.000000</td>\n",
              "      <td>1.000000</td>\n",
              "      <td>1.000000</td>\n",
              "      <td>1.000000</td>\n",
              "    </tr>\n",
              "  </tbody>\n",
              "</table>\n",
              "</div>"
            ],
            "text/plain": [
              "             math     physics   ukrainian   privilege    enrolled\n",
              "count  900.000000  900.000000  900.000000  900.000000  900.000000\n",
              "mean     0.505926    0.513704    0.483704    0.500000    0.320000\n",
              "std      0.363438    0.371969    0.369531    0.500278    0.466736\n",
              "min      0.000000    0.000000    0.000000    0.000000    0.000000\n",
              "25%      0.333333    0.333333    0.000000    0.000000    0.000000\n",
              "50%      0.333333    0.666667    0.333333    0.500000    0.000000\n",
              "75%      0.666667    1.000000    0.666667    1.000000    1.000000\n",
              "max      1.000000    1.000000    1.000000    1.000000    1.000000"
            ]
          },
          "metadata": {},
          "execution_count": 39
        }
      ]
    },
    {
      "cell_type": "markdown",
      "metadata": {
        "id": "FdVPeFENPMZ4"
      },
      "source": [
        "Побудова моделі\n",
        "\n",
        "На архітектуру моделі та спосіб її тренування вплинули наступні чинники:\n",
        "1. Мала кількість рис (4 шт.)\n",
        "2. Чітко визначені правила прийому (у форматі if then), що не є типовим для задач, які вирішують НМ\n",
        "3. Обмежена кількість унікальних векторів даних.\n",
        "\n",
        "Виходячи з п. 1, 3 прийнято рішення побудувати просту модель: всього 1 прихований шар з 4-х нейронів.  \n",
        "Виходячи з п. 2, 3 прийнято рішення не намагатися узагальнити дані, а просто \"запам'ятати\" можливі комбінації, тренуючи нейронну мережу 3000 епох. Це дає можливість гарантувати правильну роботу мережі."
      ]
    },
    {
      "cell_type": "code",
      "metadata": {
        "id": "1pv-7YFxPCUb",
        "colab": {
          "base_uri": "https://localhost:8080/"
        },
        "outputId": "3add2cda-d07d-4900-bc02-8413fb473462"
      },
      "source": [
        "model = Sequential([\n",
        "    Dense(4, input_shape=(4,)),\n",
        "    PReLU(),\n",
        "    Dense(1, activation='sigmoid')\n",
        "])\n",
        "\n",
        "model.compile(optimizer='sgd', loss='binary_crossentropy', metrics=['accuracy'])\n",
        "history = model.fit(train_data.drop('enrolled', axis=1), train_data['enrolled'], batch_size=10, epochs=3000, verbose=False)\n",
        "history.history['loss'][-1], history.history['accuracy'][-1]"
      ],
      "execution_count": null,
      "outputs": [
        {
          "output_type": "execute_result",
          "data": {
            "text/plain": [
              "(9.873240196611732e-05, 1.0)"
            ]
          },
          "metadata": {},
          "execution_count": 46
        }
      ]
    },
    {
      "cell_type": "code",
      "metadata": {
        "colab": {
          "base_uri": "https://localhost:8080/"
        },
        "id": "xrGD6mr-UO7K",
        "outputId": "43237a89-c505-4811-c41b-e1d3765a47c2"
      },
      "source": [
        "_ = model.evaluate(test_data.drop('enrolled', axis=1), test_data['enrolled'])"
      ],
      "execution_count": null,
      "outputs": [
        {
          "output_type": "stream",
          "name": "stdout",
          "text": [
            "29/29 [==============================] - 0s 1ms/step - loss: 1.0468e-04 - accuracy: 1.0000\n"
          ]
        }
      ]
    },
    {
      "cell_type": "markdown",
      "metadata": {
        "id": "ue16FcHJ51gR"
      },
      "source": [
        "Мережа справилася із задачею про що свідчить 100% точності"
      ]
    },
    {
      "cell_type": "markdown",
      "metadata": {
        "id": "QNaPTUQX45Rq"
      },
      "source": [
        "Для введення даних запустіть настпуну комірку"
      ]
    },
    {
      "cell_type": "code",
      "metadata": {
        "colab": {
          "base_uri": "https://localhost:8080/"
        },
        "id": "Es4oPLnwflb7",
        "outputId": "aa4493c8-923a-48d3-fee7-4c8c246680bc"
      },
      "source": [
        "try:\n",
        "    math = scale_mark(int(input('math (2-5): ')))\n",
        "    phy = scale_mark(int(input('physics (2-5): ')))\n",
        "    ukr = scale_mark(int(input('ukrainian (2-5): ')))\n",
        "    privilege = {'y': 1, 'n': 0}[input('has privilege (y/n): ')]\n",
        "\n",
        "    enrolled = model.predict([[math, phy, ukr, privilege]]) > 0.5\n",
        "    print('Student is', 'enrolled' if enrolled else 'not enrolled')\n",
        "except:\n",
        "    print('Incorrect data')"
      ],
      "execution_count": null,
      "outputs": [
        {
          "output_type": "stream",
          "name": "stdout",
          "text": [
            "math (2-5): 4\n",
            "physics (2-5): 3\n",
            "ukrainian (2-5): 4\n",
            "has privilege (y/n): n\n",
            "Student is not enrolled\n"
          ]
        }
      ]
    },
    {
      "cell_type": "code",
      "metadata": {
        "id": "1Soc9ic0kmUD"
      },
      "source": [
        ""
      ],
      "execution_count": null,
      "outputs": []
    }
  ]
}