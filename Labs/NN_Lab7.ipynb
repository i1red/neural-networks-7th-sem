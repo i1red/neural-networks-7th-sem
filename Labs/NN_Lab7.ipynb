{
  "nbformat": 4,
  "nbformat_minor": 0,
  "metadata": {
    "colab": {
      "name": "NN_Lab7.ipynb",
      "provenance": [],
      "collapsed_sections": []
    },
    "kernelspec": {
      "name": "python3",
      "display_name": "Python 3"
    },
    "language_info": {
      "name": "python"
    },
    "accelerator": "GPU"
  },
  "cells": [
    {
      "cell_type": "code",
      "metadata": {
        "id": "wIol2bkD0hwm"
      },
      "source": [
        "import pandas as pd\n",
        "import numpy as np\n",
        "from PIL import Image\n",
        "\n",
        "from keras.layers import Input, Conv2D, Dense, LeakyReLU, Dropout, Flatten, PReLU\n",
        "from keras.models import Sequential\n",
        "from tensorflow.keras.optimizers import Adam\n",
        "\n",
        "import os"
      ],
      "execution_count": null,
      "outputs": []
    },
    {
      "cell_type": "markdown",
      "metadata": {
        "id": "N00dkc3U5GzJ"
      },
      "source": [
        "Завантаження даних"
      ]
    },
    {
      "cell_type": "code",
      "metadata": {
        "id": "9J703yAR0-mq"
      },
      "source": [
        "# load data 'gender-prediction.zip'\n",
        "if not os.path.exists('gender-prediction.zip'):\n",
        "    from google.colab import files\n",
        "    files.upload()"
      ],
      "execution_count": null,
      "outputs": []
    },
    {
      "cell_type": "code",
      "metadata": {
        "id": "VsuxkUJQ1Qnz"
      },
      "source": [
        "!unzip --qq -n gender-prediction.zip"
      ],
      "execution_count": null,
      "outputs": []
    },
    {
      "cell_type": "markdown",
      "metadata": {
        "id": "f1vwaPst5LIr"
      },
      "source": [
        "Підготовка даних"
      ]
    },
    {
      "cell_type": "code",
      "metadata": {
        "id": "9V_5uttM4RXX"
      },
      "source": [
        "def load_data(img_dir, labels_csv, scale=True):\n",
        "    labels = pd.read_csv(labels_csv)\n",
        "    X = np.array([np.array(Image.open(os.path.join(img_dir, filename)))\n",
        "                 for filename in labels['Filename']])\n",
        "    y = np.array(labels['Male'])\n",
        "\n",
        "    if scale:\n",
        "        X = X / 255 - 0.5\n",
        "        \n",
        "    return X, y\n",
        "\n",
        "\n",
        "DATA_DIR = 'gender-prediction'\n",
        "IMG_DIR = os.path.join(DATA_DIR, 'img') \n",
        "\n",
        "X_train, y_train = load_data(IMG_DIR, os.path.join(DATA_DIR, 'train.csv'))\n",
        "X_val, y_val = load_data(IMG_DIR, os.path.join(DATA_DIR, 'val.csv'))\n",
        "X_test, y_test = load_data(IMG_DIR, os.path.join(DATA_DIR, 'test.csv'))"
      ],
      "execution_count": null,
      "outputs": []
    },
    {
      "cell_type": "code",
      "metadata": {
        "id": "qvsibT0j9UFZ",
        "colab": {
          "base_uri": "https://localhost:8080/"
        },
        "outputId": "21410fc6-cf30-4237-860d-f02bf015b5e0"
      },
      "source": [
        "X_train.shape, X_val.shape, X_test.shape"
      ],
      "execution_count": null,
      "outputs": [
        {
          "output_type": "execute_result",
          "data": {
            "text/plain": [
              "((1200, 350, 350, 3), (150, 350, 350, 3), (150, 350, 350, 3))"
            ]
          },
          "metadata": {},
          "execution_count": 5
        }
      ]
    },
    {
      "cell_type": "markdown",
      "metadata": {
        "id": "uCjvPx_i7kRb"
      },
      "source": [
        "Побудова моделі"
      ]
    },
    {
      "cell_type": "code",
      "metadata": {
        "id": "442zIwtzzOVn",
        "colab": {
          "base_uri": "https://localhost:8080/"
        },
        "outputId": "5cda50ec-a891-4960-8cef-ee57ba825e15"
      },
      "source": [
        "input_shape = X_train.shape[1:]\n",
        "\n",
        "model = Sequential([\n",
        "    Input(shape=input_shape),\n",
        "    Conv2D(3, 3, padding='same'),\n",
        "    PReLU(),\n",
        "    Conv2D(8, 3, padding='same'),\n",
        "    PReLU(),\n",
        "    Conv2D(16, 3, strides=2, padding='same'),\n",
        "    PReLU(),\n",
        "\n",
        "    Conv2D(32, 3, padding='same'),\n",
        "    PReLU(),\n",
        "    Conv2D(32, 3, strides=2, padding='same'),\n",
        "    PReLU(),\n",
        "\n",
        "    Conv2D(64, 5, padding='same'),\n",
        "    PReLU(),\n",
        "    Conv2D(128, 5, strides=2, padding='same'),\n",
        "    PReLU(),\n",
        "    Dropout(0.3),\n",
        "\n",
        "    Flatten(),\n",
        "    Dense(256),\n",
        "    PReLU(),\n",
        "    Dense(64),\n",
        "    PReLU(),\n",
        "    Dense(1, activation='sigmoid')\n",
        "])\n",
        "\n",
        "model.compile(optimizer='adam', loss='binary_crossentropy', metrics='accuracy')\n",
        "_ = model.fit(X_train, y_train, batch_size=18, epochs=15, validation_data=(X_val, y_val), shuffle=True)"
      ],
      "execution_count": null,
      "outputs": [
        {
          "output_type": "stream",
          "name": "stdout",
          "text": [
            "Epoch 1/15\n",
            "67/67 [==============================] - 23s 318ms/step - loss: 0.6355 - accuracy: 0.6692 - val_loss: 0.5514 - val_accuracy: 0.7600\n",
            "Epoch 2/15\n",
            "67/67 [==============================] - 20s 306ms/step - loss: 0.4779 - accuracy: 0.7758 - val_loss: 0.5362 - val_accuracy: 0.7267\n",
            "Epoch 3/15\n",
            "67/67 [==============================] - 21s 314ms/step - loss: 0.3961 - accuracy: 0.8142 - val_loss: 0.4294 - val_accuracy: 0.8000\n",
            "Epoch 4/15\n",
            "67/67 [==============================] - 21s 306ms/step - loss: 0.3515 - accuracy: 0.8533 - val_loss: 0.4756 - val_accuracy: 0.8133\n",
            "Epoch 5/15\n",
            "67/67 [==============================] - 21s 306ms/step - loss: 0.3478 - accuracy: 0.8542 - val_loss: 0.3663 - val_accuracy: 0.8533\n",
            "Epoch 6/15\n",
            "67/67 [==============================] - 21s 306ms/step - loss: 0.2844 - accuracy: 0.8775 - val_loss: 0.2954 - val_accuracy: 0.8800\n",
            "Epoch 7/15\n",
            "67/67 [==============================] - 21s 306ms/step - loss: 0.2405 - accuracy: 0.9050 - val_loss: 0.2576 - val_accuracy: 0.8800\n",
            "Epoch 8/15\n",
            "67/67 [==============================] - 21s 306ms/step - loss: 0.1774 - accuracy: 0.9267 - val_loss: 0.3134 - val_accuracy: 0.8400\n",
            "Epoch 9/15\n",
            "67/67 [==============================] - 21s 313ms/step - loss: 0.1329 - accuracy: 0.9517 - val_loss: 0.2504 - val_accuracy: 0.9200\n",
            "Epoch 10/15\n",
            "67/67 [==============================] - 21s 313ms/step - loss: 0.0770 - accuracy: 0.9725 - val_loss: 0.4775 - val_accuracy: 0.8667\n",
            "Epoch 11/15\n",
            "67/67 [==============================] - 20s 306ms/step - loss: 0.0403 - accuracy: 0.9875 - val_loss: 0.4057 - val_accuracy: 0.8533\n",
            "Epoch 12/15\n",
            "67/67 [==============================] - 20s 305ms/step - loss: 0.1060 - accuracy: 0.9733 - val_loss: 0.2447 - val_accuracy: 0.9200\n",
            "Epoch 13/15\n",
            "67/67 [==============================] - 21s 307ms/step - loss: 0.0489 - accuracy: 0.9842 - val_loss: 0.4933 - val_accuracy: 0.8400\n",
            "Epoch 14/15\n",
            "67/67 [==============================] - 20s 305ms/step - loss: 0.0284 - accuracy: 0.9883 - val_loss: 0.5037 - val_accuracy: 0.8667\n",
            "Epoch 15/15\n",
            "67/67 [==============================] - 20s 305ms/step - loss: 0.0190 - accuracy: 0.9933 - val_loss: 0.3419 - val_accuracy: 0.9200\n"
          ]
        }
      ]
    },
    {
      "cell_type": "code",
      "metadata": {
        "colab": {
          "base_uri": "https://localhost:8080/"
        },
        "id": "iKWjrpRl1cYs",
        "outputId": "d7af9a90-0f23-42d0-a3a1-82c53c8ecb40"
      },
      "source": [
        "_ = model.evaluate(X_test, y_test)"
      ],
      "execution_count": null,
      "outputs": [
        {
          "output_type": "stream",
          "name": "stdout",
          "text": [
            "5/5 [==============================] - 1s 155ms/step - loss: 0.7553 - accuracy: 0.8933\n"
          ]
        }
      ]
    },
    {
      "cell_type": "code",
      "metadata": {
        "id": "3xH4HPlxJfkw"
      },
      "source": [
        ""
      ],
      "execution_count": null,
      "outputs": []
    }
  ]
}