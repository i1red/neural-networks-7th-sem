{
  "nbformat": 4,
  "nbformat_minor": 0,
  "metadata": {
    "colab": {
      "name": "NN_Lab4.ipynb",
      "provenance": [],
      "collapsed_sections": []
    },
    "kernelspec": {
      "name": "python3",
      "display_name": "Python 3"
    },
    "language_info": {
      "name": "python"
    }
  },
  "cells": [
    {
      "cell_type": "code",
      "metadata": {
        "id": "fDB4MgjIglK7"
      },
      "source": [
        "from keras.layers import Dense, Input\n",
        "from keras.models import Sequential\n",
        "from keras.losses import BinaryCrossentropy\n",
        "from tensorflow.keras.optimizers import Adam\n",
        "\n",
        "import numpy as np\n",
        "import seaborn as sns"
      ],
      "execution_count": null,
      "outputs": []
    },
    {
      "cell_type": "markdown",
      "metadata": {
        "id": "tIPcr62jk1VZ"
      },
      "source": [
        "1. Припустимо, що у вас є багатошаровий перцептрон, що складається з одного вхідного\n",
        "шару з 15 нейронами, за яким є ще один прихований шар з 35 нейронами і один\n",
        "вихідний шар з 5 нейронами. Всі штучні нейрони застосовують функцію активації\n",
        "ReLU."
      ]
    },
    {
      "cell_type": "code",
      "metadata": {
        "id": "6wdjdTLthGon"
      },
      "source": [
        "hidden_layer = Dense(35, activation='relu', input_shape=(15,))\n",
        "output_layer = Dense(5, activation='relu')\n",
        "\n",
        "\n",
        "model = Sequential(\n",
        "    [\n",
        "     hidden_layer,\n",
        "     output_layer\n",
        "    ]\n",
        ")"
      ],
      "execution_count": null,
      "outputs": []
    },
    {
      "cell_type": "markdown",
      "metadata": {
        "id": "uGFzBSzPlBm0"
      },
      "source": [
        "Яка форма вхідної матриці X?"
      ]
    },
    {
      "cell_type": "code",
      "metadata": {
        "colab": {
          "base_uri": "https://localhost:8080/"
        },
        "id": "GkpI290wlH8W",
        "outputId": "799e38af-5eaf-46c2-bb27-8aa301f23494"
      },
      "source": [
        "model.input_shape"
      ],
      "execution_count": null,
      "outputs": [
        {
          "output_type": "execute_result",
          "data": {
            "text/plain": [
              "(None, 15)"
            ]
          },
          "metadata": {},
          "execution_count": 3
        }
      ]
    },
    {
      "cell_type": "markdown",
      "metadata": {
        "id": "kHshmfvzlJyz"
      },
      "source": [
        "Що можна сказати про форму вектора ваг $W_h$ прихованого шару?"
      ]
    },
    {
      "cell_type": "code",
      "metadata": {
        "colab": {
          "base_uri": "https://localhost:8080/"
        },
        "id": "sMV1Z0PFiTjQ",
        "outputId": "aa09be17-2e1e-4e99-97ec-b234c8ede74b"
      },
      "source": [
        "weights, bias = hidden_layer.get_weights()\n",
        "weights.shape"
      ],
      "execution_count": null,
      "outputs": [
        {
          "output_type": "execute_result",
          "data": {
            "text/plain": [
              "(15, 35)"
            ]
          },
          "metadata": {},
          "execution_count": 4
        }
      ]
    },
    {
      "cell_type": "markdown",
      "metadata": {
        "id": "PtQBHFfqljVv"
      },
      "source": [
        "... і формі його вектора зсувів $b_h$?"
      ]
    },
    {
      "cell_type": "code",
      "metadata": {
        "colab": {
          "base_uri": "https://localhost:8080/"
        },
        "id": "AxL_evx7kRZl",
        "outputId": "2899865e-c636-4550-cee8-9e700e151aad"
      },
      "source": [
        "bias.shape"
      ],
      "execution_count": null,
      "outputs": [
        {
          "output_type": "execute_result",
          "data": {
            "text/plain": [
              "(35,)"
            ]
          },
          "metadata": {},
          "execution_count": 5
        }
      ]
    },
    {
      "cell_type": "markdown",
      "metadata": {
        "id": "hG5nu49BnXR5"
      },
      "source": [
        "Яка форма вектора ваг $W_0$ вихідного шару?"
      ]
    },
    {
      "cell_type": "code",
      "metadata": {
        "colab": {
          "base_uri": "https://localhost:8080/"
        },
        "id": "05Yo6n73o4So",
        "outputId": "3fb5b436-f6ef-4082-fd49-d478cc256a4a"
      },
      "source": [
        "weights, bias = output_layer.get_weights()\n",
        "weights.shape"
      ],
      "execution_count": null,
      "outputs": [
        {
          "output_type": "execute_result",
          "data": {
            "text/plain": [
              "(35, 5)"
            ]
          },
          "metadata": {},
          "execution_count": 6
        }
      ]
    },
    {
      "cell_type": "markdown",
      "metadata": {
        "id": "AsAgN97fpO1v"
      },
      "source": [
        "... і форма його вектора зсувів $b_0$?  "
      ]
    },
    {
      "cell_type": "code",
      "metadata": {
        "colab": {
          "base_uri": "https://localhost:8080/"
        },
        "id": "wSln8HbHpG3Y",
        "outputId": "6bad5100-421b-4e4f-9973-69f604c1038a"
      },
      "source": [
        "bias.shape"
      ],
      "execution_count": null,
      "outputs": [
        {
          "output_type": "execute_result",
          "data": {
            "text/plain": [
              "(5,)"
            ]
          },
          "metadata": {},
          "execution_count": 7
        }
      ]
    },
    {
      "cell_type": "markdown",
      "metadata": {
        "id": "NLv4ndvgnvVJ"
      },
      "source": [
        "Яка форма вихідної матриці Y мережі?"
      ]
    },
    {
      "cell_type": "code",
      "metadata": {
        "colab": {
          "base_uri": "https://localhost:8080/"
        },
        "id": "rPtJ6oPVmKvB",
        "outputId": "68b9046e-0304-4394-e26f-e887222ebb6f"
      },
      "source": [
        "model.output_shape"
      ],
      "execution_count": null,
      "outputs": [
        {
          "output_type": "execute_result",
          "data": {
            "text/plain": [
              "(None, 5)"
            ]
          },
          "metadata": {},
          "execution_count": 8
        }
      ]
    },
    {
      "cell_type": "markdown",
      "metadata": {
        "id": "G04ZkSUJn8XS"
      },
      "source": [
        "Напишіть рівняння, яке обчислює вихідну матрицю Y.   \n",
        "$Y = ReLU(ReLU(XW_h + b_h)W_0 + b_0)$"
      ]
    },
    {
      "cell_type": "markdown",
      "metadata": {
        "id": "AtHsFcsVpoix"
      },
      "source": [
        "2. Порівняйте точність класифікації нейронної мережі з різними нелінійними функціями\n",
        "активації з точністю класифікації нейронної мережі з лінійною функцією активації."
      ]
    },
    {
      "cell_type": "code",
      "metadata": {
        "id": "OUjX-QbSvsoC"
      },
      "source": [
        "from keras.datasets import fashion_mnist"
      ],
      "execution_count": null,
      "outputs": []
    },
    {
      "cell_type": "code",
      "metadata": {
        "id": "laMaCo2KvyB2"
      },
      "source": [
        "(X_train, y_train), (X_val, y_val) = fashion_mnist.load_data()"
      ],
      "execution_count": null,
      "outputs": []
    },
    {
      "cell_type": "code",
      "metadata": {
        "id": "NnrPscoU9DmA"
      },
      "source": [
        "input_size = np.prod(X_train.shape[1:])\n",
        "(n_classes,) = np.unique(y_train).shape"
      ],
      "execution_count": null,
      "outputs": []
    },
    {
      "cell_type": "code",
      "metadata": {
        "id": "foVgfINH8ylk"
      },
      "source": [
        "X_train = X_train.reshape(-1, input_size) / 255 - 0.5\n",
        "X_val = X_val.reshape(-1, input_size) / 255 - 0.5"
      ],
      "execution_count": null,
      "outputs": []
    },
    {
      "cell_type": "code",
      "metadata": {
        "id": "WdMLPlGU4ulB"
      },
      "source": [
        "def create_classifier(input_size, hidden_sizes, n_classes, activations=None):\n",
        "  model = Sequential()\n",
        "  model.add(Input(shape=(input_size,)))\n",
        "\n",
        "  if not activations:\n",
        "    activations = ['linear'] * len(hidden_sizes)\n",
        "  elif isinstance(activations, str):\n",
        "    activations = [activations] * len(hidden_sizes)\n",
        "\n",
        "  for size, activation in zip(hidden_sizes, activations):\n",
        "    model.add(Dense(size, activation))\n",
        "\n",
        "  model.add(Dense(n_classes, activation='softmax'))\n",
        "\n",
        "  return model\n",
        "\n",
        "\n",
        "def train_classifier(classifier, train, val, epochs=5):\n",
        "  classifier.compile(optimizer='adam', loss='sparse_categorical_crossentropy', metrics=['accuracy'])\n",
        "  classifier.fit(*train, epochs=epochs, validation_data=val)"
      ],
      "execution_count": null,
      "outputs": []
    },
    {
      "cell_type": "markdown",
      "metadata": {
        "id": "tEWPmWGh795d"
      },
      "source": [
        "Лінійна функція активації:"
      ]
    },
    {
      "cell_type": "code",
      "metadata": {
        "colab": {
          "base_uri": "https://localhost:8080/"
        },
        "id": "pYIkkOxIvZrk",
        "outputId": "66efc37d-352b-42fe-fc8a-3bb260032127"
      },
      "source": [
        "train_classifier(create_classifier(input_size, [128, 32], n_classes), (X_train, y_train), (X_val, y_val))"
      ],
      "execution_count": null,
      "outputs": [
        {
          "output_type": "stream",
          "name": "stdout",
          "text": [
            "Epoch 1/5\n",
            "1875/1875 [==============================] - 6s 3ms/step - loss: 0.5370 - accuracy: 0.8096 - val_loss: 0.4997 - val_accuracy: 0.8264\n",
            "Epoch 2/5\n",
            "1875/1875 [==============================] - 6s 3ms/step - loss: 0.4673 - accuracy: 0.8342 - val_loss: 0.4897 - val_accuracy: 0.8233\n",
            "Epoch 3/5\n",
            "1875/1875 [==============================] - 6s 3ms/step - loss: 0.4536 - accuracy: 0.8420 - val_loss: 0.4747 - val_accuracy: 0.8302\n",
            "Epoch 4/5\n",
            "1875/1875 [==============================] - 5s 3ms/step - loss: 0.4417 - accuracy: 0.8466 - val_loss: 0.4906 - val_accuracy: 0.8239\n",
            "Epoch 5/5\n",
            "1875/1875 [==============================] - 5s 3ms/step - loss: 0.4315 - accuracy: 0.8494 - val_loss: 0.4981 - val_accuracy: 0.8212\n"
          ]
        }
      ]
    },
    {
      "cell_type": "markdown",
      "metadata": {
        "id": "nvPh_niHnXxq"
      },
      "source": [
        "ReLU:"
      ]
    },
    {
      "cell_type": "code",
      "metadata": {
        "colab": {
          "base_uri": "https://localhost:8080/"
        },
        "id": "EGR_59MVx1JH",
        "outputId": "d284d527-61ad-4456-a447-2d5188a3890a"
      },
      "source": [
        "train_classifier(create_classifier(input_size, [128, 32], n_classes, 'relu'), (X_train, y_train), (X_val, y_val))"
      ],
      "execution_count": null,
      "outputs": [
        {
          "output_type": "stream",
          "name": "stdout",
          "text": [
            "Epoch 1/5\n",
            "1875/1875 [==============================] - 6s 3ms/step - loss: 0.4937 - accuracy: 0.8203 - val_loss: 0.4343 - val_accuracy: 0.8422\n",
            "Epoch 2/5\n",
            "1875/1875 [==============================] - 5s 2ms/step - loss: 0.3778 - accuracy: 0.8613 - val_loss: 0.4099 - val_accuracy: 0.8534\n",
            "Epoch 3/5\n",
            "1875/1875 [==============================] - 5s 3ms/step - loss: 0.3397 - accuracy: 0.8743 - val_loss: 0.3831 - val_accuracy: 0.8602\n",
            "Epoch 4/5\n",
            "1875/1875 [==============================] - 5s 3ms/step - loss: 0.3173 - accuracy: 0.8821 - val_loss: 0.3711 - val_accuracy: 0.8692\n",
            "Epoch 5/5\n",
            "1875/1875 [==============================] - 5s 3ms/step - loss: 0.2968 - accuracy: 0.8901 - val_loss: 0.3844 - val_accuracy: 0.8627\n"
          ]
        }
      ]
    },
    {
      "cell_type": "markdown",
      "metadata": {
        "id": "0RyWnMEJwJoJ"
      },
      "source": [
        "Значної різниці немає, але з функцією активації результат кращий"
      ]
    },
    {
      "cell_type": "markdown",
      "metadata": {
        "id": "5Lze8wpj05xH"
      },
      "source": [
        "Створимо дані з нелінійною залежністю"
      ]
    },
    {
      "cell_type": "code",
      "metadata": {
        "id": "dWOdNcmm-tNR"
      },
      "source": [
        "X = (np.random.rand(5000, 10) - 0.5) * 10"
      ],
      "execution_count": null,
      "outputs": []
    },
    {
      "cell_type": "code",
      "metadata": {
        "id": "d0CraQODww1-"
      },
      "source": [
        "y_temp = (np.sin(X) + np.power(X, 2)).sum(axis=1)"
      ],
      "execution_count": null,
      "outputs": []
    },
    {
      "cell_type": "code",
      "metadata": {
        "id": "MX5lb25YyHnI"
      },
      "source": [
        "y = np.zeros(y_temp.shape)\n",
        "y[y_temp > np.quantile(y_temp, 0.25)] = 1\n",
        "y[y_temp > np.quantile(y_temp, 0.5)] = 2\n",
        "y[y_temp > np.quantile(y_temp, 0.75)] = 3"
      ],
      "execution_count": null,
      "outputs": []
    },
    {
      "cell_type": "code",
      "metadata": {
        "id": "glEC8NNmyjf6"
      },
      "source": [
        "from sklearn.model_selection import train_test_split"
      ],
      "execution_count": null,
      "outputs": []
    },
    {
      "cell_type": "code",
      "metadata": {
        "id": "BpGZZD3hwzPB"
      },
      "source": [
        "X_train, X_val, y_train, y_val = train_test_split(X, y, test_size=0.25, random_state=0)"
      ],
      "execution_count": null,
      "outputs": []
    },
    {
      "cell_type": "code",
      "metadata": {
        "id": "TBYeNylHxfs0"
      },
      "source": [
        "input_size = np.prod(X_train.shape[1:])\n",
        "(n_classes,) = np.unique(y_train).shape"
      ],
      "execution_count": null,
      "outputs": []
    },
    {
      "cell_type": "code",
      "metadata": {
        "colab": {
          "base_uri": "https://localhost:8080/"
        },
        "id": "Grbvh7NLx_PG",
        "outputId": "511c2d32-2d36-49f6-ecf9-836499672a8f"
      },
      "source": [
        "train_classifier(create_classifier(input_size, [128, 32], n_classes), (X_train, y_train), (X_val, y_val), epochs=15)"
      ],
      "execution_count": null,
      "outputs": [
        {
          "output_type": "stream",
          "name": "stdout",
          "text": [
            "Epoch 1/15\n",
            "118/118 [==============================] - 1s 3ms/step - loss: 1.4673 - accuracy: 0.2493 - val_loss: 1.4515 - val_accuracy: 0.2552\n",
            "Epoch 2/15\n",
            "118/118 [==============================] - 0s 3ms/step - loss: 1.4385 - accuracy: 0.2563 - val_loss: 1.4420 - val_accuracy: 0.2672\n",
            "Epoch 3/15\n",
            "118/118 [==============================] - 0s 2ms/step - loss: 1.4318 - accuracy: 0.2541 - val_loss: 1.4394 - val_accuracy: 0.2520\n",
            "Epoch 4/15\n",
            "118/118 [==============================] - 0s 3ms/step - loss: 1.4270 - accuracy: 0.2640 - val_loss: 1.4250 - val_accuracy: 0.2664\n",
            "Epoch 5/15\n",
            "118/118 [==============================] - 0s 2ms/step - loss: 1.4361 - accuracy: 0.2512 - val_loss: 1.4375 - val_accuracy: 0.2616\n",
            "Epoch 6/15\n",
            "118/118 [==============================] - 0s 3ms/step - loss: 1.4245 - accuracy: 0.2515 - val_loss: 1.4280 - val_accuracy: 0.2432\n",
            "Epoch 7/15\n",
            "118/118 [==============================] - 0s 2ms/step - loss: 1.4288 - accuracy: 0.2491 - val_loss: 1.4243 - val_accuracy: 0.2480\n",
            "Epoch 8/15\n",
            "118/118 [==============================] - 0s 2ms/step - loss: 1.4258 - accuracy: 0.2621 - val_loss: 1.4378 - val_accuracy: 0.2632\n",
            "Epoch 9/15\n",
            "118/118 [==============================] - 0s 3ms/step - loss: 1.4265 - accuracy: 0.2581 - val_loss: 1.4343 - val_accuracy: 0.2568\n",
            "Epoch 10/15\n",
            "118/118 [==============================] - 0s 2ms/step - loss: 1.4167 - accuracy: 0.2512 - val_loss: 1.4086 - val_accuracy: 0.2480\n",
            "Epoch 11/15\n",
            "118/118 [==============================] - 0s 3ms/step - loss: 1.4148 - accuracy: 0.2563 - val_loss: 1.4335 - val_accuracy: 0.2464\n",
            "Epoch 12/15\n",
            "118/118 [==============================] - 0s 2ms/step - loss: 1.4173 - accuracy: 0.2485 - val_loss: 1.4082 - val_accuracy: 0.2384\n",
            "Epoch 13/15\n",
            "118/118 [==============================] - 0s 3ms/step - loss: 1.4160 - accuracy: 0.2531 - val_loss: 1.4061 - val_accuracy: 0.2464\n",
            "Epoch 14/15\n",
            "118/118 [==============================] - 0s 2ms/step - loss: 1.4096 - accuracy: 0.2589 - val_loss: 1.4214 - val_accuracy: 0.2544\n",
            "Epoch 15/15\n",
            "118/118 [==============================] - 0s 2ms/step - loss: 1.4081 - accuracy: 0.2600 - val_loss: 1.4205 - val_accuracy: 0.2384\n"
          ]
        }
      ]
    },
    {
      "cell_type": "code",
      "metadata": {
        "colab": {
          "base_uri": "https://localhost:8080/"
        },
        "id": "POgwtDMjy_Bn",
        "outputId": "5de678a0-e22d-4171-88ac-42c6d1daeecf"
      },
      "source": [
        "train_classifier(create_classifier(input_size, [128, 32], n_classes, ['elu', 'selu']), (X_train, y_train), (X_val, y_val), epochs=15)"
      ],
      "execution_count": null,
      "outputs": [
        {
          "output_type": "stream",
          "name": "stdout",
          "text": [
            "Epoch 1/15\n",
            "118/118 [==============================] - 1s 4ms/step - loss: 1.4404 - accuracy: 0.2957 - val_loss: 1.3467 - val_accuracy: 0.3312\n",
            "Epoch 2/15\n",
            "118/118 [==============================] - 0s 3ms/step - loss: 1.2528 - accuracy: 0.4115 - val_loss: 1.1990 - val_accuracy: 0.4752\n",
            "Epoch 3/15\n",
            "118/118 [==============================] - 0s 2ms/step - loss: 1.1030 - accuracy: 0.5371 - val_loss: 1.0719 - val_accuracy: 0.5312\n",
            "Epoch 4/15\n",
            "118/118 [==============================] - 0s 3ms/step - loss: 0.9519 - accuracy: 0.6123 - val_loss: 0.9031 - val_accuracy: 0.6288\n",
            "Epoch 5/15\n",
            "118/118 [==============================] - 0s 2ms/step - loss: 0.8111 - accuracy: 0.6856 - val_loss: 0.7853 - val_accuracy: 0.6936\n",
            "Epoch 6/15\n",
            "118/118 [==============================] - 0s 3ms/step - loss: 0.7048 - accuracy: 0.7323 - val_loss: 0.6845 - val_accuracy: 0.7248\n",
            "Epoch 7/15\n",
            "118/118 [==============================] - 0s 2ms/step - loss: 0.6193 - accuracy: 0.7848 - val_loss: 0.6251 - val_accuracy: 0.7384\n",
            "Epoch 8/15\n",
            "118/118 [==============================] - 0s 3ms/step - loss: 0.5502 - accuracy: 0.8045 - val_loss: 0.6171 - val_accuracy: 0.7208\n",
            "Epoch 9/15\n",
            "118/118 [==============================] - 0s 2ms/step - loss: 0.5065 - accuracy: 0.8200 - val_loss: 0.5381 - val_accuracy: 0.7656\n",
            "Epoch 10/15\n",
            "118/118 [==============================] - 0s 2ms/step - loss: 0.4637 - accuracy: 0.8363 - val_loss: 0.5045 - val_accuracy: 0.7896\n",
            "Epoch 11/15\n",
            "118/118 [==============================] - 0s 2ms/step - loss: 0.4279 - accuracy: 0.8520 - val_loss: 0.4501 - val_accuracy: 0.8280\n",
            "Epoch 12/15\n",
            "118/118 [==============================] - 0s 3ms/step - loss: 0.4020 - accuracy: 0.8552 - val_loss: 0.4478 - val_accuracy: 0.8128\n",
            "Epoch 13/15\n",
            "118/118 [==============================] - 0s 3ms/step - loss: 0.3803 - accuracy: 0.8613 - val_loss: 0.4248 - val_accuracy: 0.8200\n",
            "Epoch 14/15\n",
            "118/118 [==============================] - 0s 3ms/step - loss: 0.3597 - accuracy: 0.8704 - val_loss: 0.4160 - val_accuracy: 0.8272\n",
            "Epoch 15/15\n",
            "118/118 [==============================] - 0s 2ms/step - loss: 0.3332 - accuracy: 0.8821 - val_loss: 0.3774 - val_accuracy: 0.8400\n"
          ]
        }
      ]
    },
    {
      "cell_type": "markdown",
      "metadata": {
        "id": "J8kSeEjY0s_i"
      },
      "source": [
        "Якщо існує нелінійна залежність, то нейромережа з лінійною функцією активації нездатна її вловити. В таких випадках мережі з нелінійними функціями активації можуть показати значно кращі результати"
      ]
    },
    {
      "cell_type": "markdown",
      "metadata": {
        "id": "OtCFYdOv2dxu"
      },
      "source": [
        "3. Для двошарової нейронної мережі з фіксованою функцією активації\n",
        "a $\\alpha (x)$\n",
        "побудуйте\n",
        "графік залежності часу навчання нейронної мережі і точності класифікації від\n",
        "кількості нейронів в прихованому шарі мережі."
      ]
    },
    {
      "cell_type": "code",
      "metadata": {
        "id": "TiN3y0JRzEyP"
      },
      "source": [
        "import time\n",
        "from keras import backend\n",
        "\n",
        "\n",
        "def alpha1(x):\n",
        "  return backend.maximum(backend.sign(x), 0))\n",
        "\n",
        "\n",
        "def create_alpha1_classifier(input_size, hidden_size):\n",
        "  return Sequential(\n",
        "      [\n",
        "       Dense(hidden_size, activation=alpha1, input_shape=(input_size,)), \n",
        "       Dense(1, activation='sigmoid')\n",
        "      ]\n",
        "    )\n",
        "  \n",
        "\n",
        "def train_binary_classifier(classifier, train, test, epochs=5):\n",
        "  \"\"\"Returns accuracy ([0, 1]) and training time (seconds)\"\"\"\n",
        "\n",
        "  classifier.compile(optimizer='adam', loss='binary_crossentropy', metrics=['accuracy'])\n",
        "\n",
        "  training_start = time.perf_counter()\n",
        "\n",
        "  classifier.fit(*train, epochs=epochs, verbose=0)\n",
        "\n",
        "  training_time = time.perf_counter() - training_start\n",
        "\n",
        "  return classifier.evaluate(*test, return_dict=True, verbose=0)['accuracy'], training_time"
      ],
      "execution_count": null,
      "outputs": []
    },
    {
      "cell_type": "code",
      "metadata": {
        "id": "jjunWqRt3iLk"
      },
      "source": [
        "input_size = 200\n",
        "n_classes = 2\n",
        "\n",
        "X = (np.random.rand(5000, input_size) - 0.5) * 10\n",
        "y = (X.sum(axis=1) > 0).astype(int)"
      ],
      "execution_count": null,
      "outputs": []
    },
    {
      "cell_type": "code",
      "metadata": {
        "id": "lpqqQXyt5gZ3"
      },
      "source": [
        "X_train, X_test, y_train, y_test = train_test_split(X, y, test_size=0.25, random_state=0)"
      ],
      "execution_count": null,
      "outputs": []
    },
    {
      "cell_type": "code",
      "metadata": {
        "id": "zV4WWG425iUh"
      },
      "source": [
        "hidden_size_list = [16, 32, 64, 128, 256, 512]\n",
        "accuracy_list, time_list = [], []\n",
        "\n",
        "for hidden_size in hidden_size_list:\n",
        "  accuracy, training_time = train_binary_classifier(create_alpha1_classifier(input_size, hidden_size), (X_train, y_train), (X_test, y_test), epochs=20)\n",
        "  accuracy_list.append(accuracy)\n",
        "  time_list.append(training_time)\n"
      ],
      "execution_count": null,
      "outputs": []
    },
    {
      "cell_type": "code",
      "metadata": {
        "colab": {
          "base_uri": "https://localhost:8080/",
          "height": 281
        },
        "id": "xzgjF5SHBYrw",
        "outputId": "bc9d156b-ed21-463c-b04b-28b73b40e995"
      },
      "source": [
        "_ = sns.barplot(x=hidden_size_list, y=accuracy_list).set_title('Accuracy / hidden layer size')"
      ],
      "execution_count": null,
      "outputs": [
        {
          "output_type": "display_data",
          "data": {
            "image/png": "[encoded data removed]",
            "text/plain": [
              "<Figure size 432x288 with 1 Axes>"
            ]
          },
          "metadata": {
            "needs_background": "light"
          }
        }
      ]
    },
    {
      "cell_type": "code",
      "metadata": {
        "colab": {
          "base_uri": "https://localhost:8080/",
          "height": 281
        },
        "id": "jhPhJe9TFhms",
        "outputId": "cbc4954f-628e-4436-b357-b7671c281c94"
      },
      "source": [
        "_ = sns.barplot(x=hidden_size_list, y=time_list).set_title('Time (s) / hidden layer size')"
      ],
      "execution_count": null,
      "outputs": [
        {
          "output_type": "display_data",
          "data": {
            "image/png": "[encoded data removed]",
            "text/plain": [
              "<Figure size 432x288 with 1 Axes>"
            ]
          },
          "metadata": {
            "needs_background": "light"
          }
        }
      ]
    },
    {
      "cell_type": "markdown",
      "metadata": {
        "id": "_y_XQFHnGpdO"
      },
      "source": [
        "4. Побудуйте графік залежності часу навчання нейронної мережі і точності класифікації\n",
        "від кількості прихованих шарів (всі приховані шари однакового розміру) для\n",
        "багатошарової нейронної мережі з фіксованою функцією активації\n",
        "$\\alpha (x)$."
      ]
    },
    {
      "cell_type": "code",
      "metadata": {
        "id": "ao93PxA7Ge4y"
      },
      "source": [
        "def alpha2(x):\n",
        "  return backend.log(1 + backend.exp(x))\n",
        "\n",
        "\n",
        "def create_alpha2_classifier(input_size, hidden_layers_num, hidden_size=64):\n",
        "  model = Sequential()\n",
        "  model.add(Input(shape=(input_size,)))\n",
        "  \n",
        "  for _ in range(hidden_layers_num):\n",
        "    model.add(Dense(hidden_size, activation=alpha2))\n",
        "\n",
        "  model.add(Dense(1, activation='sigmoid'))\n",
        "\n",
        "  return model"
      ],
      "execution_count": null,
      "outputs": []
    },
    {
      "cell_type": "code",
      "metadata": {
        "id": "Tgckl_kFHqOU"
      },
      "source": [
        "hidden_layers_num_list = list(range(1, 6))\n",
        "accuracy_list, time_list = [], []\n",
        "\n",
        "for hidden_layers_num in hidden_layers_num_list:\n",
        "  accuracy, training_time = train_binary_classifier(create_alpha2_classifier(input_size, hidden_layers_num), (X_train, y_train), (X_test, y_test), epochs=20)\n",
        "  accuracy_list.append(accuracy)\n",
        "  time_list.append(training_time)"
      ],
      "execution_count": null,
      "outputs": []
    },
    {
      "cell_type": "code",
      "metadata": {
        "colab": {
          "base_uri": "https://localhost:8080/",
          "height": 281
        },
        "id": "_P9lsdunH-zQ",
        "outputId": "0d95c4a1-0482-421e-d7c0-b6e8ba29c272"
      },
      "source": [
        "_ = sns.barplot(x=hidden_layers_num_list, y=accuracy_list).set_title('Accuracy / hidden layers num')"
      ],
      "execution_count": null,
      "outputs": [
        {
          "output_type": "display_data",
          "data": {
            "image/png": "[encoded data removed]",
            "text/plain": [
              "<Figure size 432x288 with 1 Axes>"
            ]
          },
          "metadata": {
            "needs_background": "light"
          }
        }
      ]
    },
    {
      "cell_type": "code",
      "metadata": {
        "colab": {
          "base_uri": "https://localhost:8080/",
          "height": 281
        },
        "id": "eIScr5fjIR8I",
        "outputId": "af685196-93fa-4db9-a8cb-72a488f9da90"
      },
      "source": [
        "_ = sns.barplot(x=hidden_layers_num_list, y=time_list).set_title('Time (s) / hidden layers num')"
      ],
      "execution_count": null,
      "outputs": [
        {
          "output_type": "display_data",
          "data": {
            "image/png": "[encoded data removed]",
            "text/plain": [
              "<Figure size 432x288 with 1 Axes>"
            ]
          },
          "metadata": {
            "needs_background": "light"
          }
        }
      ]
    },
    {
      "cell_type": "code",
      "metadata": {
        "id": "1_UkNFGYInWo"
      },
      "source": [
        ""
      ],
      "execution_count": null,
      "outputs": []
    }
  ]
}