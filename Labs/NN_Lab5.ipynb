{
  "nbformat": 4,
  "nbformat_minor": 0,
  "metadata": {
    "colab": {
      "name": "NN_Lab5.ipynb",
      "provenance": []
    },
    "kernelspec": {
      "name": "python3",
      "display_name": "Python 3"
    },
    "language_info": {
      "name": "python"
    }
  },
  "cells": [
    {
      "cell_type": "code",
      "metadata": {
        "id": "46ovL2eZcWsY"
      },
      "source": [
        "from keras.layers import Input, Dense\n",
        "from keras import Sequential\n",
        "\n",
        "import numpy as np\n",
        "import pandas as pd"
      ],
      "execution_count": null,
      "outputs": []
    },
    {
      "cell_type": "markdown",
      "metadata": {
        "id": "abmR7et2dZji"
      },
      "source": [
        "1. Дано набір точок. Необхідно апроксимувати цю залежність поліномом другого ступеня\n",
        "за допомогою нейронної мережі. Розв’язок доповнити графіком із зображенням\n",
        "вихідних точок та кривої, отриманої за допомогою нейронної мережі."
      ]
    },
    {
      "cell_type": "code",
      "metadata": {
        "id": "IZkjZ8nSdLps"
      },
      "source": [
        "x = np.array(range(9))\n",
        "y = np.array([6.45, 4.06, 2.53, 2.05, 2.48, 3.97, 6.57, 9.94, 14.45])"
      ],
      "execution_count": null,
      "outputs": []
    },
    {
      "cell_type": "markdown",
      "metadata": {
        "id": "RvVOTKZBhOCN"
      },
      "source": [
        "$y = ax^2 + bx + c$"
      ]
    },
    {
      "cell_type": "code",
      "metadata": {
        "id": "12iALR5zhOeh"
      },
      "source": [
        "X = np.column_stack((x ** 2, x, np.ones(x.shape)))\n",
        "input_shape = X.shape[1:]"
      ],
      "execution_count": null,
      "outputs": []
    },
    {
      "cell_type": "code",
      "metadata": {
        "id": "dtBckvkUhc7y"
      },
      "source": [
        "out_layer = Dense(1, input_shape=input_shape, kernel_initializer='ones', use_bias=False)\n",
        "\n",
        "model = Sequential([out_layer])\n",
        "model.compile(loss='mse')\n",
        "history = model.fit(X, y, epochs=20000, verbose=0)"
      ],
      "execution_count": null,
      "outputs": []
    },
    {
      "cell_type": "markdown",
      "metadata": {
        "id": "r1dNP8OLrO6L"
      },
      "source": [
        "MSE Loss:"
      ]
    },
    {
      "cell_type": "code",
      "metadata": {
        "colab": {
          "base_uri": "https://localhost:8080/"
        },
        "id": "zd0h0aJprX_K",
        "outputId": "86810999-48f5-49ae-8ebc-3b7b7f9a78b3"
      },
      "source": [
        "history.history['loss'][-1]"
      ],
      "execution_count": null,
      "outputs": [
        {
          "output_type": "execute_result",
          "data": {
            "text/plain": [
              "0.002014836994931102"
            ]
          },
          "metadata": {},
          "execution_count": 5
        }
      ]
    },
    {
      "cell_type": "code",
      "metadata": {
        "id": "rIRNCrRjrkW8"
      },
      "source": [
        "(weights,) = out_layer.get_weights()\n",
        "a, b, c = weights.flatten()\n",
        "\n",
        "f = np.vectorize(lambda x: a * x ** 2 + b * x + c)"
      ],
      "execution_count": null,
      "outputs": []
    },
    {
      "cell_type": "markdown",
      "metadata": {
        "id": "0rGinot4rcsW"
      },
      "source": [
        "Апроксимована функція:"
      ]
    },
    {
      "cell_type": "code",
      "metadata": {
        "colab": {
          "base_uri": "https://localhost:8080/"
        },
        "id": "7eTvon58rMqA",
        "outputId": "e30c0838-f620-4ac3-bcd0-5bd0860338ed"
      },
      "source": [
        "print(f'y = {a:.3f}x²{b:+.3f}x{c:+.3f}')"
      ],
      "execution_count": null,
      "outputs": [
        {
          "output_type": "stream",
          "name": "stdout",
          "text": [
            "y = 0.496x²-2.976x+6.488\n"
          ]
        }
      ]
    },
    {
      "cell_type": "code",
      "metadata": {
        "colab": {
          "base_uri": "https://localhost:8080/"
        },
        "id": "6nAP74Sths_l",
        "outputId": "722411da-2bd3-4a94-c93c-c44c49582a24"
      },
      "source": [
        "for y_, y_approx in zip(y, f(x)):\n",
        "  print(f'y = {y_}, f(x) = {y_approx:.3f}')"
      ],
      "execution_count": null,
      "outputs": [
        {
          "output_type": "stream",
          "name": "stdout",
          "text": [
            "y = 6.45, f(x) = 6.488\n",
            "y = 4.06, f(x) = 4.008\n",
            "y = 2.53, f(x) = 2.519\n",
            "y = 2.05, f(x) = 2.021\n",
            "y = 2.48, f(x) = 2.515\n",
            "y = 3.97, f(x) = 4.000\n",
            "y = 6.57, f(x) = 6.477\n",
            "y = 9.94, f(x) = 9.945\n",
            "y = 14.45, f(x) = 14.404\n"
          ]
        }
      ]
    },
    {
      "cell_type": "markdown",
      "metadata": {
        "id": "NLTnXVsYtVO2"
      },
      "source": [
        "2. Створіть нейронну мережу, яка правильно класифікує об’єкти, використовуючи дані з\n",
        "таблиці.\n",
        "Відповідь мережі: якщо «Параметр 1» = 1, то 1-й клас, якщо «Параметр 2» = «Параметр\n",
        "3», то 2-й клас, інакше – 3-й клас."
      ]
    },
    {
      "cell_type": "code",
      "metadata": {
        "id": "YKOubgnK6Fk7"
      },
      "source": [
        "X = np.array(\n",
        "    [\n",
        "     [1, 1, 0], \n",
        "     [1, 0, 1], \n",
        "     [0, 1, 1], \n",
        "     [0, 1, 0], \n",
        "     [0, 1, 1], \n",
        "     [0, 0, 1], \n",
        "     [0, 1, 0], \n",
        "     [1, 1, 1], \n",
        "     [0, 0, 0]\n",
        "    ]\n",
        ")\n",
        "y = np.array([1, 1, 2, 3, 2, 3, 3, 1, 2]) - 1 # zero-based labels\n",
        "\n",
        "input_shape = X.shape[1:]\n",
        "n_classes = len(np.unique(y))"
      ],
      "execution_count": null,
      "outputs": []
    },
    {
      "cell_type": "code",
      "metadata": {
        "id": "Jbclo1iX8JGs"
      },
      "source": [
        "X, idx = np.unique(X, return_index=True, axis=0)\n",
        "y = y[idx]"
      ],
      "execution_count": null,
      "outputs": []
    },
    {
      "cell_type": "code",
      "metadata": {
        "colab": {
          "base_uri": "https://localhost:8080/"
        },
        "id": "xmaGLjnivUkm",
        "outputId": "904031c3-240c-4967-b069-5abb505810ff"
      },
      "source": [
        "model = Sequential(\n",
        "    [\n",
        "     Dense(64, activation='relu', input_shape=input_shape),\n",
        "     Dense(3, activation='softmax')\n",
        "    ]\n",
        ")\n",
        "model.compile(optimizer='adam', loss='sparse_categorical_crossentropy', metrics=['accuracy'])\n",
        "_ = model.fit(X, y, epochs=200)"
      ],
      "execution_count": null,
      "outputs": [
        {
          "output_type": "stream",
          "name": "stdout",
          "text": [
            "Epoch 1/200\n",
            "1/1 [==============================] - 0s 329ms/step - loss: 1.1205 - accuracy: 0.2857\n",
            "Epoch 2/200\n",
            "1/1 [==============================] - 0s 6ms/step - loss: 1.1128 - accuracy: 0.2857\n",
            "Epoch 3/200\n",
            "1/1 [==============================] - 0s 9ms/step - loss: 1.1051 - accuracy: 0.2857\n",
            "Epoch 4/200\n",
            "1/1 [==============================] - 0s 7ms/step - loss: 1.0975 - accuracy: 0.4286\n",
            "Epoch 5/200\n",
            "1/1 [==============================] - 0s 6ms/step - loss: 1.0901 - accuracy: 0.2857\n",
            "Epoch 6/200\n",
            "1/1 [==============================] - 0s 6ms/step - loss: 1.0828 - accuracy: 0.2857\n",
            "Epoch 7/200\n",
            "1/1 [==============================] - 0s 13ms/step - loss: 1.0757 - accuracy: 0.2857\n",
            "Epoch 8/200\n",
            "1/1 [==============================] - 0s 6ms/step - loss: 1.0687 - accuracy: 0.4286\n",
            "Epoch 9/200\n",
            "1/1 [==============================] - 0s 13ms/step - loss: 1.0618 - accuracy: 0.4286\n",
            "Epoch 10/200\n",
            "1/1 [==============================] - 0s 8ms/step - loss: 1.0551 - accuracy: 0.4286\n",
            "Epoch 11/200\n",
            "1/1 [==============================] - 0s 8ms/step - loss: 1.0485 - accuracy: 0.4286\n",
            "Epoch 12/200\n",
            "1/1 [==============================] - 0s 5ms/step - loss: 1.0420 - accuracy: 0.4286\n",
            "Epoch 13/200\n",
            "1/1 [==============================] - 0s 4ms/step - loss: 1.0357 - accuracy: 0.4286\n",
            "Epoch 14/200\n",
            "1/1 [==============================] - 0s 5ms/step - loss: 1.0294 - accuracy: 0.4286\n",
            "Epoch 15/200\n",
            "1/1 [==============================] - 0s 5ms/step - loss: 1.0233 - accuracy: 0.4286\n",
            "Epoch 16/200\n",
            "1/1 [==============================] - 0s 5ms/step - loss: 1.0173 - accuracy: 0.4286\n",
            "Epoch 17/200\n",
            "1/1 [==============================] - 0s 6ms/step - loss: 1.0114 - accuracy: 0.4286\n",
            "Epoch 18/200\n",
            "1/1 [==============================] - 0s 6ms/step - loss: 1.0057 - accuracy: 0.4286\n",
            "Epoch 19/200\n",
            "1/1 [==============================] - 0s 6ms/step - loss: 1.0001 - accuracy: 0.4286\n",
            "Epoch 20/200\n",
            "1/1 [==============================] - 0s 4ms/step - loss: 0.9945 - accuracy: 0.4286\n",
            "Epoch 21/200\n",
            "1/1 [==============================] - 0s 6ms/step - loss: 0.9891 - accuracy: 0.4286\n",
            "Epoch 22/200\n",
            "1/1 [==============================] - 0s 9ms/step - loss: 0.9838 - accuracy: 0.4286\n",
            "Epoch 23/200\n",
            "1/1 [==============================] - 0s 6ms/step - loss: 0.9786 - accuracy: 0.4286\n",
            "Epoch 24/200\n",
            "1/1 [==============================] - 0s 5ms/step - loss: 0.9734 - accuracy: 0.4286\n",
            "Epoch 25/200\n",
            "1/1 [==============================] - 0s 6ms/step - loss: 0.9684 - accuracy: 0.4286\n",
            "Epoch 26/200\n",
            "1/1 [==============================] - 0s 16ms/step - loss: 0.9634 - accuracy: 0.4286\n",
            "Epoch 27/200\n",
            "1/1 [==============================] - 0s 4ms/step - loss: 0.9586 - accuracy: 0.4286\n",
            "Epoch 28/200\n",
            "1/1 [==============================] - 0s 5ms/step - loss: 0.9537 - accuracy: 0.4286\n",
            "Epoch 29/200\n",
            "1/1 [==============================] - 0s 7ms/step - loss: 0.9488 - accuracy: 0.4286\n",
            "Epoch 30/200\n",
            "1/1 [==============================] - 0s 5ms/step - loss: 0.9441 - accuracy: 0.4286\n",
            "Epoch 31/200\n",
            "1/1 [==============================] - 0s 5ms/step - loss: 0.9394 - accuracy: 0.4286\n",
            "Epoch 32/200\n",
            "1/1 [==============================] - 0s 4ms/step - loss: 0.9348 - accuracy: 0.4286\n",
            "Epoch 33/200\n",
            "1/1 [==============================] - 0s 6ms/step - loss: 0.9303 - accuracy: 0.4286\n",
            "Epoch 34/200\n",
            "1/1 [==============================] - 0s 7ms/step - loss: 0.9259 - accuracy: 0.4286\n",
            "Epoch 35/200\n",
            "1/1 [==============================] - 0s 5ms/step - loss: 0.9216 - accuracy: 0.4286\n",
            "Epoch 36/200\n",
            "1/1 [==============================] - 0s 6ms/step - loss: 0.9174 - accuracy: 0.4286\n",
            "Epoch 37/200\n",
            "1/1 [==============================] - 0s 8ms/step - loss: 0.9133 - accuracy: 0.4286\n",
            "Epoch 38/200\n",
            "1/1 [==============================] - 0s 6ms/step - loss: 0.9092 - accuracy: 0.4286\n",
            "Epoch 39/200\n",
            "1/1 [==============================] - 0s 6ms/step - loss: 0.9052 - accuracy: 0.4286\n",
            "Epoch 40/200\n",
            "1/1 [==============================] - 0s 6ms/step - loss: 0.9013 - accuracy: 0.4286\n",
            "Epoch 41/200\n",
            "1/1 [==============================] - 0s 8ms/step - loss: 0.8974 - accuracy: 0.4286\n",
            "Epoch 42/200\n",
            "1/1 [==============================] - 0s 7ms/step - loss: 0.8935 - accuracy: 0.4286\n",
            "Epoch 43/200\n",
            "1/1 [==============================] - 0s 8ms/step - loss: 0.8898 - accuracy: 0.4286\n",
            "Epoch 44/200\n",
            "1/1 [==============================] - 0s 5ms/step - loss: 0.8861 - accuracy: 0.4286\n",
            "Epoch 45/200\n",
            "1/1 [==============================] - 0s 7ms/step - loss: 0.8823 - accuracy: 0.4286\n",
            "Epoch 46/200\n",
            "1/1 [==============================] - 0s 8ms/step - loss: 0.8785 - accuracy: 0.4286\n",
            "Epoch 47/200\n",
            "1/1 [==============================] - 0s 7ms/step - loss: 0.8747 - accuracy: 0.4286\n",
            "Epoch 48/200\n",
            "1/1 [==============================] - 0s 7ms/step - loss: 0.8710 - accuracy: 0.4286\n",
            "Epoch 49/200\n",
            "1/1 [==============================] - 0s 5ms/step - loss: 0.8673 - accuracy: 0.4286\n",
            "Epoch 50/200\n",
            "1/1 [==============================] - 0s 8ms/step - loss: 0.8635 - accuracy: 0.4286\n",
            "Epoch 51/200\n",
            "1/1 [==============================] - 0s 7ms/step - loss: 0.8598 - accuracy: 0.4286\n",
            "Epoch 52/200\n",
            "1/1 [==============================] - 0s 7ms/step - loss: 0.8561 - accuracy: 0.4286\n",
            "Epoch 53/200\n",
            "1/1 [==============================] - 0s 6ms/step - loss: 0.8524 - accuracy: 0.4286\n",
            "Epoch 54/200\n",
            "1/1 [==============================] - 0s 6ms/step - loss: 0.8487 - accuracy: 0.4286\n",
            "Epoch 55/200\n",
            "1/1 [==============================] - 0s 6ms/step - loss: 0.8451 - accuracy: 0.4286\n",
            "Epoch 56/200\n",
            "1/1 [==============================] - 0s 5ms/step - loss: 0.8414 - accuracy: 0.4286\n",
            "Epoch 57/200\n",
            "1/1 [==============================] - 0s 9ms/step - loss: 0.8377 - accuracy: 0.4286\n",
            "Epoch 58/200\n",
            "1/1 [==============================] - 0s 20ms/step - loss: 0.8340 - accuracy: 0.4286\n",
            "Epoch 59/200\n",
            "1/1 [==============================] - 0s 4ms/step - loss: 0.8302 - accuracy: 0.4286\n",
            "Epoch 60/200\n",
            "1/1 [==============================] - 0s 8ms/step - loss: 0.8266 - accuracy: 0.4286\n",
            "Epoch 61/200\n",
            "1/1 [==============================] - 0s 8ms/step - loss: 0.8229 - accuracy: 0.4286\n",
            "Epoch 62/200\n",
            "1/1 [==============================] - 0s 7ms/step - loss: 0.8192 - accuracy: 0.4286\n",
            "Epoch 63/200\n",
            "1/1 [==============================] - 0s 5ms/step - loss: 0.8155 - accuracy: 0.4286\n",
            "Epoch 64/200\n",
            "1/1 [==============================] - 0s 10ms/step - loss: 0.8118 - accuracy: 0.5714\n",
            "Epoch 65/200\n",
            "1/1 [==============================] - 0s 6ms/step - loss: 0.8081 - accuracy: 0.5714\n",
            "Epoch 66/200\n",
            "1/1 [==============================] - 0s 4ms/step - loss: 0.8045 - accuracy: 0.5714\n",
            "Epoch 67/200\n",
            "1/1 [==============================] - 0s 6ms/step - loss: 0.8007 - accuracy: 0.7143\n",
            "Epoch 68/200\n",
            "1/1 [==============================] - 0s 6ms/step - loss: 0.7970 - accuracy: 0.7143\n",
            "Epoch 69/200\n",
            "1/1 [==============================] - 0s 9ms/step - loss: 0.7933 - accuracy: 0.7143\n",
            "Epoch 70/200\n",
            "1/1 [==============================] - 0s 5ms/step - loss: 0.7896 - accuracy: 0.7143\n",
            "Epoch 71/200\n",
            "1/1 [==============================] - 0s 6ms/step - loss: 0.7859 - accuracy: 0.7143\n",
            "Epoch 72/200\n",
            "1/1 [==============================] - 0s 6ms/step - loss: 0.7823 - accuracy: 0.8571\n",
            "Epoch 73/200\n",
            "1/1 [==============================] - 0s 5ms/step - loss: 0.7787 - accuracy: 0.8571\n",
            "Epoch 74/200\n",
            "1/1 [==============================] - 0s 10ms/step - loss: 0.7751 - accuracy: 0.8571\n",
            "Epoch 75/200\n",
            "1/1 [==============================] - 0s 4ms/step - loss: 0.7715 - accuracy: 0.8571\n",
            "Epoch 76/200\n",
            "1/1 [==============================] - 0s 4ms/step - loss: 0.7678 - accuracy: 0.8571\n",
            "Epoch 77/200\n",
            "1/1 [==============================] - 0s 11ms/step - loss: 0.7642 - accuracy: 0.8571\n",
            "Epoch 78/200\n",
            "1/1 [==============================] - 0s 13ms/step - loss: 0.7606 - accuracy: 0.8571\n",
            "Epoch 79/200\n",
            "1/1 [==============================] - 0s 11ms/step - loss: 0.7570 - accuracy: 0.8571\n",
            "Epoch 80/200\n",
            "1/1 [==============================] - 0s 4ms/step - loss: 0.7534 - accuracy: 0.8571\n",
            "Epoch 81/200\n",
            "1/1 [==============================] - 0s 3ms/step - loss: 0.7498 - accuracy: 0.8571\n",
            "Epoch 82/200\n",
            "1/1 [==============================] - 0s 9ms/step - loss: 0.7462 - accuracy: 0.8571\n",
            "Epoch 83/200\n",
            "1/1 [==============================] - 0s 3ms/step - loss: 0.7427 - accuracy: 0.8571\n",
            "Epoch 84/200\n",
            "1/1 [==============================] - 0s 4ms/step - loss: 0.7391 - accuracy: 1.0000\n",
            "Epoch 85/200\n",
            "1/1 [==============================] - 0s 7ms/step - loss: 0.7355 - accuracy: 1.0000\n",
            "Epoch 86/200\n",
            "1/1 [==============================] - 0s 4ms/step - loss: 0.7320 - accuracy: 1.0000\n",
            "Epoch 87/200\n",
            "1/1 [==============================] - 0s 9ms/step - loss: 0.7285 - accuracy: 1.0000\n",
            "Epoch 88/200\n",
            "1/1 [==============================] - 0s 4ms/step - loss: 0.7250 - accuracy: 1.0000\n",
            "Epoch 89/200\n",
            "1/1 [==============================] - 0s 3ms/step - loss: 0.7214 - accuracy: 1.0000\n",
            "Epoch 90/200\n",
            "1/1 [==============================] - 0s 9ms/step - loss: 0.7178 - accuracy: 1.0000\n",
            "Epoch 91/200\n",
            "1/1 [==============================] - 0s 4ms/step - loss: 0.7143 - accuracy: 1.0000\n",
            "Epoch 92/200\n",
            "1/1 [==============================] - 0s 3ms/step - loss: 0.7107 - accuracy: 1.0000\n",
            "Epoch 93/200\n",
            "1/1 [==============================] - 0s 4ms/step - loss: 0.7071 - accuracy: 1.0000\n",
            "Epoch 94/200\n",
            "1/1 [==============================] - 0s 9ms/step - loss: 0.7036 - accuracy: 1.0000\n",
            "Epoch 95/200\n",
            "1/1 [==============================] - 0s 4ms/step - loss: 0.7001 - accuracy: 1.0000\n",
            "Epoch 96/200\n",
            "1/1 [==============================] - 0s 4ms/step - loss: 0.6966 - accuracy: 1.0000\n",
            "Epoch 97/200\n",
            "1/1 [==============================] - 0s 10ms/step - loss: 0.6930 - accuracy: 1.0000\n",
            "Epoch 98/200\n",
            "1/1 [==============================] - 0s 4ms/step - loss: 0.6895 - accuracy: 1.0000\n",
            "Epoch 99/200\n",
            "1/1 [==============================] - 0s 5ms/step - loss: 0.6860 - accuracy: 1.0000\n",
            "Epoch 100/200\n",
            "1/1 [==============================] - 0s 7ms/step - loss: 0.6825 - accuracy: 1.0000\n",
            "Epoch 101/200\n",
            "1/1 [==============================] - 0s 9ms/step - loss: 0.6789 - accuracy: 1.0000\n",
            "Epoch 102/200\n",
            "1/1 [==============================] - 0s 4ms/step - loss: 0.6754 - accuracy: 1.0000\n",
            "Epoch 103/200\n",
            "1/1 [==============================] - 0s 4ms/step - loss: 0.6719 - accuracy: 1.0000\n",
            "Epoch 104/200\n",
            "1/1 [==============================] - 0s 9ms/step - loss: 0.6684 - accuracy: 1.0000\n",
            "Epoch 105/200\n",
            "1/1 [==============================] - 0s 4ms/step - loss: 0.6648 - accuracy: 1.0000\n",
            "Epoch 106/200\n",
            "1/1 [==============================] - 0s 4ms/step - loss: 0.6613 - accuracy: 1.0000\n",
            "Epoch 107/200\n",
            "1/1 [==============================] - 0s 9ms/step - loss: 0.6578 - accuracy: 1.0000\n",
            "Epoch 108/200\n",
            "1/1 [==============================] - 0s 7ms/step - loss: 0.6544 - accuracy: 1.0000\n",
            "Epoch 109/200\n",
            "1/1 [==============================] - 0s 5ms/step - loss: 0.6509 - accuracy: 1.0000\n",
            "Epoch 110/200\n",
            "1/1 [==============================] - 0s 8ms/step - loss: 0.6473 - accuracy: 1.0000\n",
            "Epoch 111/200\n",
            "1/1 [==============================] - 0s 4ms/step - loss: 0.6438 - accuracy: 1.0000\n",
            "Epoch 112/200\n",
            "1/1 [==============================] - 0s 6ms/step - loss: 0.6403 - accuracy: 1.0000\n",
            "Epoch 113/200\n",
            "1/1 [==============================] - 0s 11ms/step - loss: 0.6368 - accuracy: 1.0000\n",
            "Epoch 114/200\n",
            "1/1 [==============================] - 0s 15ms/step - loss: 0.6332 - accuracy: 1.0000\n",
            "Epoch 115/200\n",
            "1/1 [==============================] - 0s 6ms/step - loss: 0.6297 - accuracy: 1.0000\n",
            "Epoch 116/200\n",
            "1/1 [==============================] - 0s 6ms/step - loss: 0.6263 - accuracy: 1.0000\n",
            "Epoch 117/200\n",
            "1/1 [==============================] - 0s 5ms/step - loss: 0.6228 - accuracy: 1.0000\n",
            "Epoch 118/200\n",
            "1/1 [==============================] - 0s 15ms/step - loss: 0.6193 - accuracy: 1.0000\n",
            "Epoch 119/200\n",
            "1/1 [==============================] - 0s 6ms/step - loss: 0.6159 - accuracy: 1.0000\n",
            "Epoch 120/200\n",
            "1/1 [==============================] - 0s 6ms/step - loss: 0.6124 - accuracy: 1.0000\n",
            "Epoch 121/200\n",
            "1/1 [==============================] - 0s 9ms/step - loss: 0.6090 - accuracy: 1.0000\n",
            "Epoch 122/200\n",
            "1/1 [==============================] - 0s 7ms/step - loss: 0.6055 - accuracy: 1.0000\n",
            "Epoch 123/200\n",
            "1/1 [==============================] - 0s 8ms/step - loss: 0.6021 - accuracy: 1.0000\n",
            "Epoch 124/200\n",
            "1/1 [==============================] - 0s 7ms/step - loss: 0.5987 - accuracy: 1.0000\n",
            "Epoch 125/200\n",
            "1/1 [==============================] - 0s 10ms/step - loss: 0.5952 - accuracy: 1.0000\n",
            "Epoch 126/200\n",
            "1/1 [==============================] - 0s 6ms/step - loss: 0.5918 - accuracy: 1.0000\n",
            "Epoch 127/200\n",
            "1/1 [==============================] - 0s 7ms/step - loss: 0.5883 - accuracy: 1.0000\n",
            "Epoch 128/200\n",
            "1/1 [==============================] - 0s 4ms/step - loss: 0.5848 - accuracy: 1.0000\n",
            "Epoch 129/200\n",
            "1/1 [==============================] - 0s 5ms/step - loss: 0.5814 - accuracy: 1.0000\n",
            "Epoch 130/200\n",
            "1/1 [==============================] - 0s 7ms/step - loss: 0.5780 - accuracy: 1.0000\n",
            "Epoch 131/200\n",
            "1/1 [==============================] - 0s 11ms/step - loss: 0.5745 - accuracy: 1.0000\n",
            "Epoch 132/200\n",
            "1/1 [==============================] - 0s 15ms/step - loss: 0.5711 - accuracy: 1.0000\n",
            "Epoch 133/200\n",
            "1/1 [==============================] - 0s 15ms/step - loss: 0.5677 - accuracy: 1.0000\n",
            "Epoch 134/200\n",
            "1/1 [==============================] - 0s 13ms/step - loss: 0.5643 - accuracy: 1.0000\n",
            "Epoch 135/200\n",
            "1/1 [==============================] - 0s 18ms/step - loss: 0.5609 - accuracy: 1.0000\n",
            "Epoch 136/200\n",
            "1/1 [==============================] - 0s 8ms/step - loss: 0.5575 - accuracy: 1.0000\n",
            "Epoch 137/200\n",
            "1/1 [==============================] - 0s 6ms/step - loss: 0.5541 - accuracy: 1.0000\n",
            "Epoch 138/200\n",
            "1/1 [==============================] - 0s 4ms/step - loss: 0.5507 - accuracy: 1.0000\n",
            "Epoch 139/200\n",
            "1/1 [==============================] - 0s 9ms/step - loss: 0.5474 - accuracy: 1.0000\n",
            "Epoch 140/200\n",
            "1/1 [==============================] - 0s 7ms/step - loss: 0.5440 - accuracy: 1.0000\n",
            "Epoch 141/200\n",
            "1/1 [==============================] - 0s 6ms/step - loss: 0.5406 - accuracy: 1.0000\n",
            "Epoch 142/200\n",
            "1/1 [==============================] - 0s 6ms/step - loss: 0.5373 - accuracy: 1.0000\n",
            "Epoch 143/200\n",
            "1/1 [==============================] - 0s 17ms/step - loss: 0.5340 - accuracy: 1.0000\n",
            "Epoch 144/200\n",
            "1/1 [==============================] - 0s 7ms/step - loss: 0.5307 - accuracy: 1.0000\n",
            "Epoch 145/200\n",
            "1/1 [==============================] - 0s 4ms/step - loss: 0.5274 - accuracy: 1.0000\n",
            "Epoch 146/200\n",
            "1/1 [==============================] - 0s 6ms/step - loss: 0.5242 - accuracy: 1.0000\n",
            "Epoch 147/200\n",
            "1/1 [==============================] - 0s 8ms/step - loss: 0.5209 - accuracy: 1.0000\n",
            "Epoch 148/200\n",
            "1/1 [==============================] - 0s 6ms/step - loss: 0.5176 - accuracy: 1.0000\n",
            "Epoch 149/200\n",
            "1/1 [==============================] - 0s 4ms/step - loss: 0.5143 - accuracy: 1.0000\n",
            "Epoch 150/200\n",
            "1/1 [==============================] - 0s 6ms/step - loss: 0.5111 - accuracy: 1.0000\n",
            "Epoch 151/200\n",
            "1/1 [==============================] - 0s 4ms/step - loss: 0.5078 - accuracy: 1.0000\n",
            "Epoch 152/200\n",
            "1/1 [==============================] - 0s 7ms/step - loss: 0.5045 - accuracy: 1.0000\n",
            "Epoch 153/200\n",
            "1/1 [==============================] - 0s 5ms/step - loss: 0.5013 - accuracy: 1.0000\n",
            "Epoch 154/200\n",
            "1/1 [==============================] - 0s 6ms/step - loss: 0.4981 - accuracy: 1.0000\n",
            "Epoch 155/200\n",
            "1/1 [==============================] - 0s 10ms/step - loss: 0.4949 - accuracy: 1.0000\n",
            "Epoch 156/200\n",
            "1/1 [==============================] - 0s 6ms/step - loss: 0.4917 - accuracy: 1.0000\n",
            "Epoch 157/200\n",
            "1/1 [==============================] - 0s 15ms/step - loss: 0.4884 - accuracy: 1.0000\n",
            "Epoch 158/200\n",
            "1/1 [==============================] - 0s 5ms/step - loss: 0.4853 - accuracy: 1.0000\n",
            "Epoch 159/200\n",
            "1/1 [==============================] - 0s 12ms/step - loss: 0.4821 - accuracy: 1.0000\n",
            "Epoch 160/200\n",
            "1/1 [==============================] - 0s 9ms/step - loss: 0.4790 - accuracy: 1.0000\n",
            "Epoch 161/200\n",
            "1/1 [==============================] - 0s 5ms/step - loss: 0.4759 - accuracy: 1.0000\n",
            "Epoch 162/200\n",
            "1/1 [==============================] - 0s 5ms/step - loss: 0.4728 - accuracy: 1.0000\n",
            "Epoch 163/200\n",
            "1/1 [==============================] - 0s 7ms/step - loss: 0.4697 - accuracy: 1.0000\n",
            "Epoch 164/200\n",
            "1/1 [==============================] - 0s 5ms/step - loss: 0.4667 - accuracy: 1.0000\n",
            "Epoch 165/200\n",
            "1/1 [==============================] - 0s 6ms/step - loss: 0.4636 - accuracy: 1.0000\n",
            "Epoch 166/200\n",
            "1/1 [==============================] - 0s 5ms/step - loss: 0.4606 - accuracy: 1.0000\n",
            "Epoch 167/200\n",
            "1/1 [==============================] - 0s 7ms/step - loss: 0.4577 - accuracy: 1.0000\n",
            "Epoch 168/200\n",
            "1/1 [==============================] - 0s 8ms/step - loss: 0.4547 - accuracy: 1.0000\n",
            "Epoch 169/200\n",
            "1/1 [==============================] - 0s 8ms/step - loss: 0.4517 - accuracy: 1.0000\n",
            "Epoch 170/200\n",
            "1/1 [==============================] - 0s 12ms/step - loss: 0.4488 - accuracy: 1.0000\n",
            "Epoch 171/200\n",
            "1/1 [==============================] - 0s 4ms/step - loss: 0.4459 - accuracy: 1.0000\n",
            "Epoch 172/200\n",
            "1/1 [==============================] - 0s 4ms/step - loss: 0.4431 - accuracy: 1.0000\n",
            "Epoch 173/200\n",
            "1/1 [==============================] - 0s 4ms/step - loss: 0.4403 - accuracy: 1.0000\n",
            "Epoch 174/200\n",
            "1/1 [==============================] - 0s 8ms/step - loss: 0.4375 - accuracy: 1.0000\n",
            "Epoch 175/200\n",
            "1/1 [==============================] - 0s 4ms/step - loss: 0.4347 - accuracy: 1.0000\n",
            "Epoch 176/200\n",
            "1/1 [==============================] - 0s 8ms/step - loss: 0.4319 - accuracy: 1.0000\n",
            "Epoch 177/200\n",
            "1/1 [==============================] - 0s 10ms/step - loss: 0.4291 - accuracy: 1.0000\n",
            "Epoch 178/200\n",
            "1/1 [==============================] - 0s 12ms/step - loss: 0.4264 - accuracy: 1.0000\n",
            "Epoch 179/200\n",
            "1/1 [==============================] - 0s 13ms/step - loss: 0.4237 - accuracy: 1.0000\n",
            "Epoch 180/200\n",
            "1/1 [==============================] - 0s 9ms/step - loss: 0.4210 - accuracy: 1.0000\n",
            "Epoch 181/200\n",
            "1/1 [==============================] - 0s 7ms/step - loss: 0.4184 - accuracy: 1.0000\n",
            "Epoch 182/200\n",
            "1/1 [==============================] - 0s 18ms/step - loss: 0.4157 - accuracy: 1.0000\n",
            "Epoch 183/200\n",
            "1/1 [==============================] - 0s 26ms/step - loss: 0.4131 - accuracy: 1.0000\n",
            "Epoch 184/200\n",
            "1/1 [==============================] - 0s 18ms/step - loss: 0.4104 - accuracy: 1.0000\n",
            "Epoch 185/200\n",
            "1/1 [==============================] - 0s 13ms/step - loss: 0.4079 - accuracy: 1.0000\n",
            "Epoch 186/200\n",
            "1/1 [==============================] - 0s 8ms/step - loss: 0.4053 - accuracy: 1.0000\n",
            "Epoch 187/200\n",
            "1/1 [==============================] - 0s 12ms/step - loss: 0.4027 - accuracy: 1.0000\n",
            "Epoch 188/200\n",
            "1/1 [==============================] - 0s 12ms/step - loss: 0.4002 - accuracy: 1.0000\n",
            "Epoch 189/200\n",
            "1/1 [==============================] - 0s 9ms/step - loss: 0.3977 - accuracy: 1.0000\n",
            "Epoch 190/200\n",
            "1/1 [==============================] - 0s 23ms/step - loss: 0.3952 - accuracy: 1.0000\n",
            "Epoch 191/200\n",
            "1/1 [==============================] - 0s 4ms/step - loss: 0.3927 - accuracy: 1.0000\n",
            "Epoch 192/200\n",
            "1/1 [==============================] - 0s 18ms/step - loss: 0.3903 - accuracy: 1.0000\n",
            "Epoch 193/200\n",
            "1/1 [==============================] - 0s 4ms/step - loss: 0.3878 - accuracy: 1.0000\n",
            "Epoch 194/200\n",
            "1/1 [==============================] - 0s 7ms/step - loss: 0.3854 - accuracy: 1.0000\n",
            "Epoch 195/200\n",
            "1/1 [==============================] - 0s 7ms/step - loss: 0.3830 - accuracy: 1.0000\n",
            "Epoch 196/200\n",
            "1/1 [==============================] - 0s 4ms/step - loss: 0.3806 - accuracy: 1.0000\n",
            "Epoch 197/200\n",
            "1/1 [==============================] - 0s 5ms/step - loss: 0.3782 - accuracy: 1.0000\n",
            "Epoch 198/200\n",
            "1/1 [==============================] - 0s 5ms/step - loss: 0.3758 - accuracy: 1.0000\n",
            "Epoch 199/200\n",
            "1/1 [==============================] - 0s 5ms/step - loss: 0.3734 - accuracy: 1.0000\n",
            "Epoch 200/200\n",
            "1/1 [==============================] - 0s 6ms/step - loss: 0.3711 - accuracy: 1.0000\n"
          ]
        }
      ]
    },
    {
      "cell_type": "markdown",
      "metadata": {
        "id": "_EvPCjZh761-"
      },
      "source": [
        "Перевіримо роботу мережі усіх можливих варіантах ($2^3=8$ штук)"
      ]
    },
    {
      "cell_type": "code",
      "metadata": {
        "id": "N3oHv1Ds3ocy"
      },
      "source": [
        "import pandas as pd\n",
        "from itertools import product"
      ],
      "execution_count": null,
      "outputs": []
    },
    {
      "cell_type": "code",
      "metadata": {
        "colab": {
          "base_uri": "https://localhost:8080/",
          "height": 338
        },
        "id": "Q9kIa0zYx4Nm",
        "outputId": "50c7896e-d94b-4ced-c76f-129135c51d1e"
      },
      "source": [
        "X_test = np.array(list(product([0, 1], repeat=3)))\n",
        "\n",
        "y_pred = model.predict(X_test).argmax(axis=1)\n",
        "data = np.column_stack((X_test, y_pred + 1))\n",
        "pd.DataFrame(data, columns=['Параметр 1', 'Параметр 2', 'Параметр 3', 'Клас'],index=range(1, len(data) + 1))"
      ],
      "execution_count": null,
      "outputs": [
        {
          "output_type": "execute_result",
          "data": {
            "text/html": [
              "<div>\n",
              "<style scoped>\n",
              "    .dataframe tbody tr th:only-of-type {\n",
              "        vertical-align: middle;\n",
              "    }\n",
              "\n",
              "    .dataframe tbody tr th {\n",
              "        vertical-align: top;\n",
              "    }\n",
              "\n",
              "    .dataframe thead th {\n",
              "        text-align: right;\n",
              "    }\n",
              "</style>\n",
              "<table border=\"1\" class=\"dataframe\">\n",
              "  <thead>\n",
              "    <tr style=\"text-align: right;\">\n",
              "      <th></th>\n",
              "      <th>Параметр 1</th>\n",
              "      <th>Параметр 2</th>\n",
              "      <th>Параметр 3</th>\n",
              "      <th>Клас</th>\n",
              "    </tr>\n",
              "  </thead>\n",
              "  <tbody>\n",
              "    <tr>\n",
              "      <th>1</th>\n",
              "      <td>0</td>\n",
              "      <td>0</td>\n",
              "      <td>0</td>\n",
              "      <td>2</td>\n",
              "    </tr>\n",
              "    <tr>\n",
              "      <th>2</th>\n",
              "      <td>0</td>\n",
              "      <td>0</td>\n",
              "      <td>1</td>\n",
              "      <td>3</td>\n",
              "    </tr>\n",
              "    <tr>\n",
              "      <th>3</th>\n",
              "      <td>0</td>\n",
              "      <td>1</td>\n",
              "      <td>0</td>\n",
              "      <td>3</td>\n",
              "    </tr>\n",
              "    <tr>\n",
              "      <th>4</th>\n",
              "      <td>0</td>\n",
              "      <td>1</td>\n",
              "      <td>1</td>\n",
              "      <td>2</td>\n",
              "    </tr>\n",
              "    <tr>\n",
              "      <th>5</th>\n",
              "      <td>1</td>\n",
              "      <td>0</td>\n",
              "      <td>0</td>\n",
              "      <td>1</td>\n",
              "    </tr>\n",
              "    <tr>\n",
              "      <th>6</th>\n",
              "      <td>1</td>\n",
              "      <td>0</td>\n",
              "      <td>1</td>\n",
              "      <td>1</td>\n",
              "    </tr>\n",
              "    <tr>\n",
              "      <th>7</th>\n",
              "      <td>1</td>\n",
              "      <td>1</td>\n",
              "      <td>0</td>\n",
              "      <td>1</td>\n",
              "    </tr>\n",
              "    <tr>\n",
              "      <th>8</th>\n",
              "      <td>1</td>\n",
              "      <td>1</td>\n",
              "      <td>1</td>\n",
              "      <td>1</td>\n",
              "    </tr>\n",
              "  </tbody>\n",
              "</table>\n",
              "</div>"
            ],
            "text/plain": [
              "   Параметр 1  Параметр 2  Параметр 3  Клас\n",
              "1           0           0           0     2\n",
              "2           0           0           1     3\n",
              "3           0           1           0     3\n",
              "4           0           1           1     2\n",
              "5           1           0           0     1\n",
              "6           1           0           1     1\n",
              "7           1           1           0     1\n",
              "8           1           1           1     1"
            ]
          },
          "metadata": {},
          "execution_count": 13
        }
      ]
    },
    {
      "cell_type": "code",
      "metadata": {
        "id": "oUs3jeCW7k6q"
      },
      "source": [
        ""
      ],
      "execution_count": null,
      "outputs": []
    }
  ]
}