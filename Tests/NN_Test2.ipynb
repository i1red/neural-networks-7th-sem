{
  "nbformat": 4,
  "nbformat_minor": 0,
  "metadata": {
    "colab": {
      "name": "NN_Test2.ipynb",
      "provenance": [],
      "collapsed_sections": []
    },
    "kernelspec": {
      "name": "python3",
      "display_name": "Python 3"
    },
    "language_info": {
      "name": "python"
    }
  },
  "cells": [
    {
      "cell_type": "markdown",
      "metadata": {
        "id": "umOKuRylvzaq"
      },
      "source": [
        "# 1. Класи задач, що розв’язують НМ."
      ]
    },
    {
      "cell_type": "markdown",
      "metadata": {
        "id": "otvHMWsLwp1c"
      },
      "source": [
        "- Класифікація\n",
        "- Регресія\n",
        "- Локалізація (знахождення) об'єкта на зображенні\n",
        "- Семантична сегментація\n",
        "- Генерація (за допомогою GAN; приклад: покращення якості зображення)\n",
        "- Переклад тексту"
      ]
    },
    {
      "cell_type": "markdown",
      "metadata": {
        "id": "zE5D0hnEyoDp"
      },
      "source": [
        "# 2. Етапи побудови проекту з НМ"
      ]
    },
    {
      "cell_type": "markdown",
      "metadata": {
        "id": "J-DYLIeqyy14"
      },
      "source": [
        "1. Підготовка даних   \n",
        "    a. Збір даних  \n",
        "    b. Передобробка даних  \n",
        "    c. Розбиття на тренувальну, валідаційну та тестову вибірки (за необхідності)\n",
        "2. Побудова моделі/моделей (вибір типів шарів, їх розмірності, кількості і т.д.)\n",
        "3. Обрання функції похибки, алгоритму оптимізації ваг та метрик якості роботи мережі  \n",
        "3. Тренування моделі  \n",
        "4. Оцінка якості роботи моделі\n"
      ]
    },
    {
      "cell_type": "markdown",
      "metadata": {
        "id": "ax7J8kZ44TkF"
      },
      "source": [
        "# 3. Функція завантаження навчаючої та тестової вибірки. Детально на прикладі."
      ]
    },
    {
      "cell_type": "markdown",
      "metadata": {
        "id": "_6z5z4tY4_6J"
      },
      "source": [
        "  У деяких датасетах тренувальна та тестові вибірки визначені заздалегідь"
      ]
    },
    {
      "cell_type": "code",
      "metadata": {
        "colab": {
          "base_uri": "https://localhost:8080/"
        },
        "id": "YYLJOaFqvUJM",
        "outputId": "ec70ab95-ef4e-4d60-8848-233e9fa2a926"
      },
      "source": [
        "from keras.datasets import fashion_mnist\n",
        "\n",
        "(X_train, y_train), (X_test, y_test) = fashion_mnist.load_data()\n",
        "print(f'Розмрність ТРЕНУВАЛЬНОЇ вибірки: дані - {X_train.shape}, мітки - {y_train.shape}')\n",
        "print(f'Розмрність ТЕСТОВОЇ вибірки: дані - {X_test.shape},  мітки - {y_test.shape}')"
      ],
      "execution_count": null,
      "outputs": [
        {
          "output_type": "stream",
          "name": "stdout",
          "text": [
            "Розмрність ТРЕНУВАЛЬНОЇ вибірки: дані - (60000, 28, 28), мітки - (60000,)\n",
            "Розмрність ТЕСТОВОЇ вибірки: дані - (10000, 28, 28),  мітки - (10000,)\n"
          ]
        }
      ]
    },
    {
      "cell_type": "markdown",
      "metadata": {
        "id": "X5YOAx9a8dcB"
      },
      "source": [
        "Для власного датасету можна самостійно визначити алгоритм розбиття на тренувальну та тестову або скористатися функцією розбиття випадковим чином (питання 4)"
      ]
    },
    {
      "cell_type": "markdown",
      "metadata": {
        "id": "CvKZket78S8I"
      },
      "source": [
        "# 4.1. Дослідження даних. Основні функції."
      ]
    },
    {
      "cell_type": "markdown",
      "metadata": {
        "id": "rrzJ_5OS_wNT"
      },
      "source": [
        "Для прикладів використаємо наступний датасет"
      ]
    },
    {
      "cell_type": "code",
      "metadata": {
        "id": "7IFE1QIb_2Ym"
      },
      "source": [
        "from sklearn import datasets\n",
        "\n",
        "iris = datasets.load_iris(as_frame=True)"
      ],
      "execution_count": null,
      "outputs": []
    },
    {
      "cell_type": "markdown",
      "metadata": {
        "id": "lNFa3_UQ_V6S"
      },
      "source": [
        "Перед початком дослідження даних можна оцінити їх на прикладі кількох семплів"
      ]
    },
    {
      "cell_type": "code",
      "metadata": {
        "colab": {
          "base_uri": "https://localhost:8080/",
          "height": 206
        },
        "id": "SNvb9FQbATfd",
        "outputId": "b51e1123-50f6-4b62-c75e-c4590ec04a8a"
      },
      "source": [
        "iris.data.head()"
      ],
      "execution_count": null,
      "outputs": [
        {
          "output_type": "execute_result",
          "data": {
            "text/html": [
              "<div>\n",
              "<style scoped>\n",
              "    .dataframe tbody tr th:only-of-type {\n",
              "        vertical-align: middle;\n",
              "    }\n",
              "\n",
              "    .dataframe tbody tr th {\n",
              "        vertical-align: top;\n",
              "    }\n",
              "\n",
              "    .dataframe thead th {\n",
              "        text-align: right;\n",
              "    }\n",
              "</style>\n",
              "<table border=\"1\" class=\"dataframe\">\n",
              "  <thead>\n",
              "    <tr style=\"text-align: right;\">\n",
              "      <th></th>\n",
              "      <th>sepal length (cm)</th>\n",
              "      <th>sepal width (cm)</th>\n",
              "      <th>petal length (cm)</th>\n",
              "      <th>petal width (cm)</th>\n",
              "    </tr>\n",
              "  </thead>\n",
              "  <tbody>\n",
              "    <tr>\n",
              "      <th>0</th>\n",
              "      <td>5.1</td>\n",
              "      <td>3.5</td>\n",
              "      <td>1.4</td>\n",
              "      <td>0.2</td>\n",
              "    </tr>\n",
              "    <tr>\n",
              "      <th>1</th>\n",
              "      <td>4.9</td>\n",
              "      <td>3.0</td>\n",
              "      <td>1.4</td>\n",
              "      <td>0.2</td>\n",
              "    </tr>\n",
              "    <tr>\n",
              "      <th>2</th>\n",
              "      <td>4.7</td>\n",
              "      <td>3.2</td>\n",
              "      <td>1.3</td>\n",
              "      <td>0.2</td>\n",
              "    </tr>\n",
              "    <tr>\n",
              "      <th>3</th>\n",
              "      <td>4.6</td>\n",
              "      <td>3.1</td>\n",
              "      <td>1.5</td>\n",
              "      <td>0.2</td>\n",
              "    </tr>\n",
              "    <tr>\n",
              "      <th>4</th>\n",
              "      <td>5.0</td>\n",
              "      <td>3.6</td>\n",
              "      <td>1.4</td>\n",
              "      <td>0.2</td>\n",
              "    </tr>\n",
              "  </tbody>\n",
              "</table>\n",
              "</div>"
            ],
            "text/plain": [
              "   sepal length (cm)  sepal width (cm)  petal length (cm)  petal width (cm)\n",
              "0                5.1               3.5                1.4               0.2\n",
              "1                4.9               3.0                1.4               0.2\n",
              "2                4.7               3.2                1.3               0.2\n",
              "3                4.6               3.1                1.5               0.2\n",
              "4                5.0               3.6                1.4               0.2"
            ]
          },
          "metadata": {},
          "execution_count": 3
        }
      ]
    },
    {
      "cell_type": "markdown",
      "metadata": {
        "id": "1lL5m6gR91io"
      },
      "source": [
        "Для дослідження даних можна використовувати статистичні функції: середнє, стандартне відхилення, мода, квантилі"
      ]
    },
    {
      "cell_type": "code",
      "metadata": {
        "colab": {
          "base_uri": "https://localhost:8080/",
          "height": 300
        },
        "id": "CMSYH-i542z3",
        "outputId": "cca510d6-1b52-4478-c41d-a50f8a89c546"
      },
      "source": [
        "iris.data.describe()"
      ],
      "execution_count": null,
      "outputs": [
        {
          "output_type": "execute_result",
          "data": {
            "text/html": [
              "<div>\n",
              "<style scoped>\n",
              "    .dataframe tbody tr th:only-of-type {\n",
              "        vertical-align: middle;\n",
              "    }\n",
              "\n",
              "    .dataframe tbody tr th {\n",
              "        vertical-align: top;\n",
              "    }\n",
              "\n",
              "    .dataframe thead th {\n",
              "        text-align: right;\n",
              "    }\n",
              "</style>\n",
              "<table border=\"1\" class=\"dataframe\">\n",
              "  <thead>\n",
              "    <tr style=\"text-align: right;\">\n",
              "      <th></th>\n",
              "      <th>sepal length (cm)</th>\n",
              "      <th>sepal width (cm)</th>\n",
              "      <th>petal length (cm)</th>\n",
              "      <th>petal width (cm)</th>\n",
              "    </tr>\n",
              "  </thead>\n",
              "  <tbody>\n",
              "    <tr>\n",
              "      <th>count</th>\n",
              "      <td>150.000000</td>\n",
              "      <td>150.000000</td>\n",
              "      <td>150.000000</td>\n",
              "      <td>150.000000</td>\n",
              "    </tr>\n",
              "    <tr>\n",
              "      <th>mean</th>\n",
              "      <td>5.843333</td>\n",
              "      <td>3.057333</td>\n",
              "      <td>3.758000</td>\n",
              "      <td>1.199333</td>\n",
              "    </tr>\n",
              "    <tr>\n",
              "      <th>std</th>\n",
              "      <td>0.828066</td>\n",
              "      <td>0.435866</td>\n",
              "      <td>1.765298</td>\n",
              "      <td>0.762238</td>\n",
              "    </tr>\n",
              "    <tr>\n",
              "      <th>min</th>\n",
              "      <td>4.300000</td>\n",
              "      <td>2.000000</td>\n",
              "      <td>1.000000</td>\n",
              "      <td>0.100000</td>\n",
              "    </tr>\n",
              "    <tr>\n",
              "      <th>25%</th>\n",
              "      <td>5.100000</td>\n",
              "      <td>2.800000</td>\n",
              "      <td>1.600000</td>\n",
              "      <td>0.300000</td>\n",
              "    </tr>\n",
              "    <tr>\n",
              "      <th>50%</th>\n",
              "      <td>5.800000</td>\n",
              "      <td>3.000000</td>\n",
              "      <td>4.350000</td>\n",
              "      <td>1.300000</td>\n",
              "    </tr>\n",
              "    <tr>\n",
              "      <th>75%</th>\n",
              "      <td>6.400000</td>\n",
              "      <td>3.300000</td>\n",
              "      <td>5.100000</td>\n",
              "      <td>1.800000</td>\n",
              "    </tr>\n",
              "    <tr>\n",
              "      <th>max</th>\n",
              "      <td>7.900000</td>\n",
              "      <td>4.400000</td>\n",
              "      <td>6.900000</td>\n",
              "      <td>2.500000</td>\n",
              "    </tr>\n",
              "  </tbody>\n",
              "</table>\n",
              "</div>"
            ],
            "text/plain": [
              "       sepal length (cm)  sepal width (cm)  petal length (cm)  petal width (cm)\n",
              "count         150.000000        150.000000         150.000000        150.000000\n",
              "mean            5.843333          3.057333           3.758000          1.199333\n",
              "std             0.828066          0.435866           1.765298          0.762238\n",
              "min             4.300000          2.000000           1.000000          0.100000\n",
              "25%             5.100000          2.800000           1.600000          0.300000\n",
              "50%             5.800000          3.000000           4.350000          1.300000\n",
              "75%             6.400000          3.300000           5.100000          1.800000\n",
              "max             7.900000          4.400000           6.900000          2.500000"
            ]
          },
          "metadata": {},
          "execution_count": 4
        }
      ]
    },
    {
      "cell_type": "markdown",
      "metadata": {
        "id": "VNYnqQesBLtB"
      },
      "source": [
        "Також можна побудувати графік для певної властивості"
      ]
    },
    {
      "cell_type": "code",
      "metadata": {
        "colab": {
          "base_uri": "https://localhost:8080/",
          "height": 483
        },
        "id": "hO3sWCnRA9Nf",
        "outputId": "677b4cba-1a5b-4aba-c1a1-35d9e1512823"
      },
      "source": [
        "import matplotlib.pyplot as plt\n",
        "\n",
        "_ = plt.figure(figsize=(10, 8))\n",
        "\n",
        "combined_data = iris.data.copy()\n",
        "combined_data['target'] = iris.target\n",
        "for _, cls_data in combined_data.groupby('target'):\n",
        "    _ = cls_data['sepal length (cm)'].plot(style='.', markersize=10)"
      ],
      "execution_count": null,
      "outputs": [
        {
          "output_type": "display_data",
          "data": {
            "image/png": "[encoded data removed]",
            "text/plain": [
              "<Figure size 720x576 with 1 Axes>"
            ]
          },
          "metadata": {
            "needs_background": "light"
          }
        }
      ]
    },
    {
      "cell_type": "markdown",
      "metadata": {
        "id": "9AAtWxUYD2NP"
      },
      "source": [
        "# 4.2. Розбиття даних на перевірочні та тестові."
      ]
    },
    {
      "cell_type": "markdown",
      "metadata": {
        "id": "c9y2o7oZDO3w"
      },
      "source": [
        "Для розбиття даних можна використати наступну функцію"
      ]
    },
    {
      "cell_type": "code",
      "metadata": {
        "colab": {
          "base_uri": "https://localhost:8080/"
        },
        "id": "P3LD9PCDBG_C",
        "outputId": "16ec09ce-a196-4e8f-96fb-45e3269d400f"
      },
      "source": [
        "from sklearn.model_selection import train_test_split\n",
        "\n",
        "X_train, X_test, y_train, y_test = train_test_split(iris.data, iris.target, test_size=0.3, random_state=0)\n",
        "\n",
        "print(f'Розмрність ТРЕНУВАЛЬНОЇ вибірки: дані - {X_train.shape}, мітки - {y_train.shape}')\n",
        "print(f'Розмрність ТЕСТОВОЇ вибірки: дані - {X_test.shape},  мітки - {y_test.shape}')"
      ],
      "execution_count": null,
      "outputs": [
        {
          "output_type": "stream",
          "name": "stdout",
          "text": [
            "Розмрність ТРЕНУВАЛЬНОЇ вибірки: дані - (105, 4), мітки - (105,)\n",
            "Розмрність ТЕСТОВОЇ вибірки: дані - (45, 4),  мітки - (45,)\n"
          ]
        }
      ]
    },
    {
      "cell_type": "markdown",
      "metadata": {
        "id": "RjOKE-azEZrN"
      },
      "source": [
        "# 5. Оцінка якості роботи НМ."
      ]
    },
    {
      "cell_type": "markdown",
      "metadata": {
        "id": "GIDcpQKqEouU"
      },
      "source": [
        "Для оцінки якості роботи моделі користуються метриками  \n",
        "Для задач класифікації: \n",
        "- $точність(accuracy)$\n",
        "- $влучність(precision)$ \n",
        "- $повнота(recall)$  \n",
        "- $f_1 score$  \n",
        "- $f_\\beta score$  \n",
        "\n",
        "Для задач регресії: \n",
        "- $Коефіцієнт\\ детермінації(R^2)$\n",
        "- $Середньоквадратична\\ похибка$  \n",
        "\n",
        "Наведено поширені метрики, також можна використовувати власні метрики\n",
        "\n",
        "Якщо значення метрик на тренувальній вибірці незадовільні, то кажуть, що НМ недовчилася (underfitting).  \n",
        "Якщо значення метрик на тренувальній та тестовій вибірках суттєво відрізняються, наприклад 0.95 та 0.75 точність відповідно, то кажуть що НМ перетренувалася (overfitting)  \n",
        "Якщо значення метрик тренувальній та тестовій вибірках задовільні, наприклад 0.95 та 0.9 точність відповідно, то можна казати, що навчання НМ пройшло успішно і вона якісно виконує задачу\n"
      ]
    },
    {
      "cell_type": "markdown",
      "metadata": {
        "id": "-3lMkiLyKKN9"
      },
      "source": [
        "# 6. Обрати текст (книгу) з ресурсу запропонованого на лекції. Підготувати його до використання."
      ]
    },
    {
      "cell_type": "markdown",
      "metadata": {
        "id": "qlb9L9GYQfgM"
      },
      "source": [
        "Обрано частину книги\n",
        "[***Animal Life in Field and Garden***](https://www.gutenberg.org/ebooks/66755):\n",
        "\n",
        "*Chapter I*  \n",
        "*What Uncle Paul Proposes To Talk About*"
      ]
    },
    {
      "cell_type": "code",
      "metadata": {
        "id": "Tiwx7t3nEETy"
      },
      "source": [
        "TEXT = \"\"\"\n",
        "“In these talks that we shall have together,” said Uncle Paul, as he\n",
        "sat with his nephews one evening in May under the big elder tree in the\n",
        "garden, “I propose to designate as ‘friends’ those forms of animal life\n",
        "that, though not domesticated or cared for by us, nevertheless come to\n",
        "our aid by waging war on insects and various other devouring creatures\n",
        "which would in the end, unless their excessive multiplication were kept\n",
        "in restraint by others besides ourselves, eat up all our crops and lay\n",
        "waste our fields; and it is these ravagers of the farmer’s carefully\n",
        "tilled acres that I shall speak of as ‘foes.’\n",
        "\n",
        "“What can man’s efforts avail against those voracious hordes,\n",
        "multiplying as they do every year to an extent beyond calculation? Will\n",
        "he have the patience, the skill, the keenness of vision necessary for\n",
        "waging successful warfare on the tiniest species, often the most\n",
        "formidable, when the June-bug, despite its far greater size, baffles\n",
        "all his endeavors? Will he undertake to examine his fields and inspect\n",
        "every lump of soil, every spear of wheat, every separate leaf on his\n",
        "fruit-trees? For so prodigious a task the whole human race would be\n",
        "inadequate, even if it united all its efforts to this one end. The\n",
        "devouring hordes would reduce us to starvation, my children, had we not\n",
        "able helpers to work for us, helpers endowed with a patience that\n",
        "nothing can tire, a skill that foils all ruses, a vigilance that\n",
        "nothing escapes. To lie in ambush for the enemy, to track it to its\n",
        "remotest retreats, to hunt it unceasingly, and finally to exterminate\n",
        "it—that is their sole care, their never-ending occupation. Urged on by\n",
        "the pangs of hunger, they are relentless in their pursuit, both for\n",
        "their own sake and on behalf of their progeny. They live on those that\n",
        "live on us; they are the enemies of our enemies.\n",
        "\n",
        "“Engaged in this work are the martins that just at present are circling\n",
        "over our heads, the bats that fly around our house, the owls that call\n",
        "to one another from the hollow willow trunks in the meadow, the\n",
        "warblers that sing in the grove, the frogs that croak in the ditches,\n",
        "and many more besides, including the toad, which is an object of\n",
        "loathing to most people. Thanks be to God who has given us, to serve as\n",
        "guardians of our daily bread, the owl and the toad, the bat and the\n",
        "viper, the frog and the lizard! All these creatures, wrongfully cursed\n",
        "and shamefully abused by us, and foolishly looked upon with repugnance\n",
        "and hatred, in reality lend us valiant assistance and should take a\n",
        "high place in our esteem. To repair the injustice they have suffered\n",
        "shall be my first duty as we come to each of them in turn. Thanks be to\n",
        "God who, to protect us from that great eater the insect, has given us\n",
        "the swallow and the warbler, the robin redbreast and the nightingale!\n",
        "These, the delight of our eye and ear, creatures of infinite grace—must\n",
        "I again raise my voice in their defense? Alas, yes, for their homes are\n",
        "ravaged by the barbarous nest-hunter.\n",
        "\n",
        "“It is my purpose now to acquaint you, my children, with these various\n",
        "helpers of man in his labors as tiller of the soil. I will tell you\n",
        "about their ways of living, their habits and their aptitudes, and the\n",
        "services they render us. My object will be attained if I succeed in\n",
        "imparting to you a little of the interest they deserve. I will begin\n",
        "with those that have teeth. But first let us take a glance at the shape\n",
        "and structure of teeth in general; for it is this that determines the\n",
        "kind of food required by the animal.”\n",
        "\"\"\".translate(str.maketrans({'\\n': ' ', '‘': \"'\", '’': \"'\", '“': '\"', '”': '\"'})).strip()"
      ],
      "execution_count": null,
      "outputs": []
    },
    {
      "cell_type": "markdown",
      "metadata": {
        "id": "bcRXh50jcWeS"
      },
      "source": [
        "# 7. Обрати 10 речень. Визначити емоційне забарвлення тексту та окремо речень. Зробити висновки."
      ]
    },
    {
      "cell_type": "code",
      "metadata": {
        "colab": {
          "base_uri": "https://localhost:8080/"
        },
        "id": "u5bW5SP3T3UR",
        "outputId": "f46fbf24-458c-4efe-ae9d-74a6628b337b"
      },
      "source": [
        "from textblob import TextBlob, WordList\n",
        "import nltk\n",
        "from nltk.corpus import stopwords\n",
        "\n",
        "for data in ('punkt',):\n",
        "    nltk.download(data)\n",
        "\n",
        "blob = TextBlob(TEXT)"
      ],
      "execution_count": null,
      "outputs": [
        {
          "output_type": "stream",
          "name": "stdout",
          "text": [
            "[nltk_data] Downloading package punkt to /root/nltk_data...\n",
            "[nltk_data]   Package punkt is already up-to-date!\n"
          ]
        }
      ]
    },
    {
      "cell_type": "code",
      "metadata": {
        "colab": {
          "base_uri": "https://localhost:8080/"
        },
        "id": "A_jOuV5BUIfR",
        "outputId": "1e919ec3-789d-4d1b-9789-2bdb279421d2"
      },
      "source": [
        "blob.sentiment"
      ],
      "execution_count": null,
      "outputs": [
        {
          "output_type": "execute_result",
          "data": {
            "text/plain": [
              "Sentiment(polarity=0.1663217703349282, subjectivity=0.5370175438596491)"
            ]
          },
          "metadata": {},
          "execution_count": 9
        }
      ]
    },
    {
      "cell_type": "code",
      "metadata": {
        "colab": {
          "base_uri": "https://localhost:8080/",
          "height": 363
        },
        "id": "FwxHwWVCbfdL",
        "outputId": "7039f398-735a-45dd-8935-11f8d53c3f27"
      },
      "source": [
        "import pandas as pd\n",
        "\n",
        "import random\n",
        "\n",
        "random.seed(0)\n",
        "sentences = random.sample(blob.sentences, 10)\n",
        "\n",
        "polarity_list, subjectivity_list = [], []\n",
        "for sentence in sentences:\n",
        "    polarity, subjectivity = sentence.sentiment\n",
        "    polarity_list.append(polarity)\n",
        "    subjectivity_list.append(subjectivity)\n",
        "\n",
        "\n",
        "sent_sentiment = pd.DataFrame({'sentence': [sentence.string for sentence in sentences], 'polarity': polarity_list, 'subjectivity': subjectivity_list})\n",
        "sent_sentiment"
      ],
      "execution_count": null,
      "outputs": [
        {
          "output_type": "execute_result",
          "data": {
            "text/html": [
              "<div>\n",
              "<style scoped>\n",
              "    .dataframe tbody tr th:only-of-type {\n",
              "        vertical-align: middle;\n",
              "    }\n",
              "\n",
              "    .dataframe tbody tr th {\n",
              "        vertical-align: top;\n",
              "    }\n",
              "\n",
              "    .dataframe thead th {\n",
              "        text-align: right;\n",
              "    }\n",
              "</style>\n",
              "<table border=\"1\" class=\"dataframe\">\n",
              "  <thead>\n",
              "    <tr style=\"text-align: right;\">\n",
              "      <th></th>\n",
              "      <th>sentence</th>\n",
              "      <th>polarity</th>\n",
              "      <th>subjectivity</th>\n",
              "    </tr>\n",
              "  </thead>\n",
              "  <tbody>\n",
              "    <tr>\n",
              "      <th>0</th>\n",
              "      <td>To repair the injustice they have suffered sha...</td>\n",
              "      <td>0.250000</td>\n",
              "      <td>0.333333</td>\n",
              "    </tr>\n",
              "    <tr>\n",
              "      <th>1</th>\n",
              "      <td>Thanks be to God who, to protect us from that ...</td>\n",
              "      <td>0.600000</td>\n",
              "      <td>0.475000</td>\n",
              "    </tr>\n",
              "    <tr>\n",
              "      <th>2</th>\n",
              "      <td>\"What can man's efforts avail against those vo...</td>\n",
              "      <td>0.000000</td>\n",
              "      <td>0.000000</td>\n",
              "    </tr>\n",
              "    <tr>\n",
              "      <th>3</th>\n",
              "      <td>They live on those that live on us; they are t...</td>\n",
              "      <td>0.136364</td>\n",
              "      <td>0.500000</td>\n",
              "    </tr>\n",
              "    <tr>\n",
              "      <th>4</th>\n",
              "      <td>\"It is my purpose now to acquaint you, my chil...</td>\n",
              "      <td>0.000000</td>\n",
              "      <td>0.500000</td>\n",
              "    </tr>\n",
              "    <tr>\n",
              "      <th>5</th>\n",
              "      <td>Alas, yes, for their homes are ravaged by the ...</td>\n",
              "      <td>-0.200000</td>\n",
              "      <td>0.950000</td>\n",
              "    </tr>\n",
              "    <tr>\n",
              "      <th>6</th>\n",
              "      <td>To lie in ambush for the enemy, to track it to...</td>\n",
              "      <td>0.000000</td>\n",
              "      <td>0.625000</td>\n",
              "    </tr>\n",
              "    <tr>\n",
              "      <th>7</th>\n",
              "      <td>But first let us take a glance at the shape an...</td>\n",
              "      <td>0.300000</td>\n",
              "      <td>0.577778</td>\n",
              "    </tr>\n",
              "    <tr>\n",
              "      <th>8</th>\n",
              "      <td>For so prodigious a task the whole human race ...</td>\n",
              "      <td>0.100000</td>\n",
              "      <td>0.250000</td>\n",
              "    </tr>\n",
              "    <tr>\n",
              "      <th>9</th>\n",
              "      <td>Urged on by the pangs of hunger, they are rele...</td>\n",
              "      <td>0.600000</td>\n",
              "      <td>1.000000</td>\n",
              "    </tr>\n",
              "  </tbody>\n",
              "</table>\n",
              "</div>"
            ],
            "text/plain": [
              "                                            sentence  polarity  subjectivity\n",
              "0  To repair the injustice they have suffered sha...  0.250000      0.333333\n",
              "1  Thanks be to God who, to protect us from that ...  0.600000      0.475000\n",
              "2  \"What can man's efforts avail against those vo...  0.000000      0.000000\n",
              "3  They live on those that live on us; they are t...  0.136364      0.500000\n",
              "4  \"It is my purpose now to acquaint you, my chil...  0.000000      0.500000\n",
              "5  Alas, yes, for their homes are ravaged by the ... -0.200000      0.950000\n",
              "6  To lie in ambush for the enemy, to track it to...  0.000000      0.625000\n",
              "7  But first let us take a glance at the shape an...  0.300000      0.577778\n",
              "8  For so prodigious a task the whole human race ...  0.100000      0.250000\n",
              "9  Urged on by the pangs of hunger, they are rele...  0.600000      1.000000"
            ]
          },
          "metadata": {},
          "execution_count": 10
        }
      ]
    },
    {
      "cell_type": "code",
      "metadata": {
        "colab": {
          "base_uri": "https://localhost:8080/",
          "height": 300
        },
        "id": "wwRvDmvldJlV",
        "outputId": "57a0cc06-74b3-4420-b0f7-eb9a5db089b3"
      },
      "source": [
        "sent_sentiment.describe()"
      ],
      "execution_count": null,
      "outputs": [
        {
          "output_type": "execute_result",
          "data": {
            "text/html": [
              "<div>\n",
              "<style scoped>\n",
              "    .dataframe tbody tr th:only-of-type {\n",
              "        vertical-align: middle;\n",
              "    }\n",
              "\n",
              "    .dataframe tbody tr th {\n",
              "        vertical-align: top;\n",
              "    }\n",
              "\n",
              "    .dataframe thead th {\n",
              "        text-align: right;\n",
              "    }\n",
              "</style>\n",
              "<table border=\"1\" class=\"dataframe\">\n",
              "  <thead>\n",
              "    <tr style=\"text-align: right;\">\n",
              "      <th></th>\n",
              "      <th>polarity</th>\n",
              "      <th>subjectivity</th>\n",
              "    </tr>\n",
              "  </thead>\n",
              "  <tbody>\n",
              "    <tr>\n",
              "      <th>count</th>\n",
              "      <td>10.000000</td>\n",
              "      <td>10.000000</td>\n",
              "    </tr>\n",
              "    <tr>\n",
              "      <th>mean</th>\n",
              "      <td>0.178636</td>\n",
              "      <td>0.521111</td>\n",
              "    </tr>\n",
              "    <tr>\n",
              "      <th>std</th>\n",
              "      <td>0.262887</td>\n",
              "      <td>0.300115</td>\n",
              "    </tr>\n",
              "    <tr>\n",
              "      <th>min</th>\n",
              "      <td>-0.200000</td>\n",
              "      <td>0.000000</td>\n",
              "    </tr>\n",
              "    <tr>\n",
              "      <th>25%</th>\n",
              "      <td>0.000000</td>\n",
              "      <td>0.368750</td>\n",
              "    </tr>\n",
              "    <tr>\n",
              "      <th>50%</th>\n",
              "      <td>0.118182</td>\n",
              "      <td>0.500000</td>\n",
              "    </tr>\n",
              "    <tr>\n",
              "      <th>75%</th>\n",
              "      <td>0.287500</td>\n",
              "      <td>0.613194</td>\n",
              "    </tr>\n",
              "    <tr>\n",
              "      <th>max</th>\n",
              "      <td>0.600000</td>\n",
              "      <td>1.000000</td>\n",
              "    </tr>\n",
              "  </tbody>\n",
              "</table>\n",
              "</div>"
            ],
            "text/plain": [
              "        polarity  subjectivity\n",
              "count  10.000000     10.000000\n",
              "mean    0.178636      0.521111\n",
              "std     0.262887      0.300115\n",
              "min    -0.200000      0.000000\n",
              "25%     0.000000      0.368750\n",
              "50%     0.118182      0.500000\n",
              "75%     0.287500      0.613194\n",
              "max     0.600000      1.000000"
            ]
          },
          "metadata": {},
          "execution_count": 11
        }
      ]
    },
    {
      "cell_type": "markdown",
      "metadata": {
        "id": "JviKztaigHpV"
      },
      "source": [
        "Емоційне забарвлення тексту обраних речень та тексту майже не відрізняються.\n",
        "\n",
        "Хоча в тексті і наявні речення як частково негативного забарвлення (-0.2) так і позитивного (0.6), але у середньому маємо показники polarity=0.18 та subjectivity=0.52, що є близьким до показників усього тексту (0.17 та 0.54 відповіно). \n",
        "\n",
        "Треба зауважити, що в даному випадку текст складається всього з 21 речення. Для тексту більшого розміру емоційне забарвлення випадково обраних 10 речень може істотно відрізнятися в забарвлення тексту."
      ]
    },
    {
      "cell_type": "markdown",
      "metadata": {
        "id": "m6FoNsTxiN8F"
      },
      "source": [
        "# 8. В текстовому описі вказати слова з помилками. Ввести в текст їх самостійно. Визначити ймовірність можливого виправлення помилок в цих словах(реченнях)."
      ]
    },
    {
      "cell_type": "code",
      "metadata": {
        "id": "PnSSkWAZfX5B"
      },
      "source": [
        "misspelled_words = {}\n",
        "\n",
        "def misspelled_word(misspelled_word, correct_word):\n",
        "    if misspelled_word == correct_word:\n",
        "        raise ValueError('Passed same words, first word should be misspelling and second should be correct option')\n",
        "\n",
        "    misspelled_words[misspelled_word] = correct_word\n",
        "    return misspelled_word\n",
        "\n",
        "\n",
        "DESCRIPTION = f\"\"\"\n",
        "The {misspelled_word('Projct', 'Project')} Gutenberg eBook of {misspelled_word('Anmal', 'Animal')} Life in Field and Garden, by\n",
        "Jean-Henri Fabre\n",
        "\n",
        "This eBook is for the {misspelled_word('yse', 'use')} of {misspelled_word('anone', 'anyone')} anywhere in the United States and\n",
        "most {misspelled_word('othr', 'other')} parts of the world at no cost and with almost no restrictions\n",
        "whatsoever. You may {misspelled_word('copppy', 'copy')} it, give it away or re-use it under the terms\n",
        "of the Project Gutenberg {misspelled_word('Laicense', 'License')} included {misspelled_word('witj', 'with')} this eBook or online at\n",
        "www.gutenberg.org. If you are not {misspelled_word('locatd', 'located')} in the United States, you\n",
        "will {misspelled_word('hav', 'have')} to check the laws of the country where you are located before\n",
        "using this eBook.\"\"\".replace('\\n', ' ').strip()"
      ],
      "execution_count": null,
      "outputs": []
    },
    {
      "cell_type": "markdown",
      "metadata": {
        "id": "kPllWMGeuTAY"
      },
      "source": [
        "Текст із помилками"
      ]
    },
    {
      "cell_type": "code",
      "metadata": {
        "colab": {
          "base_uri": "https://localhost:8080/"
        },
        "id": "saiu3YocriTU",
        "outputId": "fb3aff86-d812-4195-ead1-faf9842a1ad5"
      },
      "source": [
        "import textwrap\n",
        "print('\\n'.join(textwrap.wrap(DESCRIPTION)))"
      ],
      "execution_count": null,
      "outputs": [
        {
          "output_type": "stream",
          "name": "stdout",
          "text": [
            "The Projct Gutenberg eBook of Anmal Life in Field and Garden, by Jean-\n",
            "Henri Fabre  This eBook is for the yse of anone anywhere in the United\n",
            "States and most othr parts of the world at no cost and with almost no\n",
            "restrictions whatsoever. You may copppy it, give it away or re-use it\n",
            "under the terms of the Project Gutenberg Laicense included witj this\n",
            "eBook or online at www.gutenberg.org. If you are not locatd in the\n",
            "United States, you will hav to check the laws of the country where you\n",
            "are located before using this eBook.\n"
          ]
        }
      ]
    },
    {
      "cell_type": "markdown",
      "metadata": {
        "id": "FsaIAuGEvTdU"
      },
      "source": [
        "Слова з помилками"
      ]
    },
    {
      "cell_type": "code",
      "metadata": {
        "colab": {
          "base_uri": "https://localhost:8080/"
        },
        "id": "TtU077PNvMwq",
        "outputId": "74ae572a-0f62-4eff-db6f-fd50e75940aa"
      },
      "source": [
        "import pprint\n",
        "pprint.pprint(misspelled_words)"
      ],
      "execution_count": null,
      "outputs": [
        {
          "output_type": "stream",
          "name": "stdout",
          "text": [
            "{'Anmal': 'Animal',\n",
            " 'Laicense': 'License',\n",
            " 'Projct': 'Project',\n",
            " 'anone': 'anyone',\n",
            " 'copppy': 'copy',\n",
            " 'hav': 'have',\n",
            " 'locatd': 'located',\n",
            " 'othr': 'other',\n",
            " 'witj': 'with',\n",
            " 'yse': 'use'}\n"
          ]
        }
      ]
    },
    {
      "cell_type": "markdown",
      "metadata": {
        "id": "TO7P3fRHvFLm"
      },
      "source": [
        "Рахуємо ймовірність виправлення помилок"
      ]
    },
    {
      "cell_type": "code",
      "metadata": {
        "colab": {
          "base_uri": "https://localhost:8080/"
        },
        "id": "f0O0fTG5nU5X",
        "outputId": "3985f5c5-4918-42fc-ee5e-89b154e869da"
      },
      "source": [
        "blob = TextBlob(DESCRIPTION)\n",
        "\n",
        "\n",
        "corrected, changed = 0, 0\n",
        "\n",
        "for in_word, out_word in zip(blob.words, blob.correct().words):\n",
        "    if in_word in misspelled_words:\n",
        "        if misspelled_words[in_word] == out_word:\n",
        "            corrected += 1\n",
        "        elif in_word != out_word:\n",
        "            changed += 1\n",
        "\n",
        "\n",
        "\n",
        "print(f'Ймовірність заміни слова: {(corrected + changed) / len(misspelled_words)}')\n",
        "print(f'Ймовірність заміни слова на очікуване: {corrected / len(misspelled_words)}')\n",
        "print(f'Ймовірність заміни слова на інше: {changed / len(misspelled_words)}')"
      ],
      "execution_count": null,
      "outputs": [
        {
          "output_type": "stream",
          "name": "stdout",
          "text": [
            "Ймовірність заміни слова: 1.0\n",
            "Ймовірність заміни слова на очікуване: 0.7\n",
            "Ймовірність заміни слова на інше: 0.3\n"
          ]
        }
      ]
    },
    {
      "cell_type": "markdown",
      "metadata": {
        "id": "b9drxo5mwivs"
      },
      "source": [
        "# 9. Побудувати візуалізацію частот входження слів. Подати у вигляді словарної хмари. Форму створити самостійно."
      ]
    },
    {
      "cell_type": "code",
      "metadata": {
        "id": "RnSkZZIlqjeO"
      },
      "source": [
        "import numpy as np\n",
        "from PIL import Image\n",
        "\n",
        "x = 255\n",
        "mask = np.array([\n",
        "    [x, x, x, x, x, x, x, x, x], \n",
        "    [x, 0, 0, 0, 0, 0, 0, 0, x],\n",
        "    [x, 0, x, x, 0, x, x, 0, x], \n",
        "    [x, 0, 0, 0, 0, 0, 0, 0, x],\n",
        "    [x, 0, 0, 0, x, 0, 0, 0, x], \n",
        "    [x, 0, 0, 0, 0, 0, 0, 0, x],\n",
        "    [x, 0, 0, x, x, x, 0, 0, x], \n",
        "    [x, 0, 0, 0, 0, 0, 0, 0, x],\n",
        "    [x, x, x, x, x, x, x, x, x],  \n",
        "], np.uint8)\n",
        "\n",
        "\n",
        "mask = np.array(Image.fromarray(mask, mode='L').resize((500, 500)))\n",
        "mask[mask > 127] = 255\n",
        "mask[mask < 127] = 0"
      ],
      "execution_count": null,
      "outputs": []
    },
    {
      "cell_type": "code",
      "metadata": {
        "colab": {
          "base_uri": "https://localhost:8080/",
          "height": 517
        },
        "id": "tHYPMbRY0S0V",
        "outputId": "e10e5315-a46d-446a-e58d-2858b61a82fd"
      },
      "source": [
        "from wordcloud import WordCloud\n",
        "wordcloud = WordCloud(mask=mask, \n",
        "                      colormap='cool', \n",
        "                      background_color='white', \n",
        "                      contour_width=1, \n",
        "                      contour_color='#2222cc')\n",
        "wordcloud.generate(TEXT).to_image()"
      ],
      "execution_count": null,
      "outputs": [
        {
          "output_type": "execute_result",
          "data": {
            "image/png": "[encoded data removed]",
            "text/plain": [
              "<PIL.Image.Image image mode=RGB size=500x500 at 0x7FF506D6B750>"
            ]
          },
          "metadata": {},
          "execution_count": 17
        }
      ]
    }
  ]
}